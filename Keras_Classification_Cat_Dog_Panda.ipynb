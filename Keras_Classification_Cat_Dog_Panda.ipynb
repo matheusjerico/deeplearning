{
 "cells": [
  {
   "cell_type": "markdown",
   "metadata": {},
   "source": [
    "# Detecção de Animais"
   ]
  },
  {
   "cell_type": "markdown",
   "metadata": {},
   "source": [
    "## Import librarys\n"
   ]
  },
  {
   "cell_type": "code",
   "execution_count": 6,
   "metadata": {},
   "outputs": [],
   "source": [
    "import matplotlib\n",
    "%matplotlib inline\n",
    "\n",
    "from sklearn.preprocessing import LabelBinarizer\n",
    "from keras.preprocessing.image import ImageDataGenerator\n",
    "from sklearn.model_selection import train_test_split\n",
    "from sklearn.metrics import classification_report\n",
    "from keras.layers.normalization import BatchNormalization\n",
    "from keras.layers.convolutional import Conv2D\n",
    "from keras.layers.convolutional import MaxPooling2D\n",
    "from keras.models import Sequential\n",
    "from keras.layers.core import Activation\n",
    "from keras.layers.core import Flatten\n",
    "from keras.layers.core import Dropout\n",
    "from keras.layers import Dense\n",
    "from keras import backend as K\n",
    "from keras.optimizers import SGD\n",
    "from imutils import paths\n",
    "import matplotlib.pyplot as plt\n",
    "import numpy as np\n",
    "import random\n",
    "import pickle\n",
    "import os\n",
    "import cv2"
   ]
  },
  {
   "cell_type": "markdown",
   "metadata": {},
   "source": [
    "## Carregando imagens\n"
   ]
  },
  {
   "cell_type": "code",
   "execution_count": 7,
   "metadata": {},
   "outputs": [],
   "source": [
    "data = []\n",
    "labels= []\n",
    "\n",
    "# Embaralhar as imagens\n",
    "imagePaths = sorted(list(paths.list_images(\"/home/matheusjerico/Documentos/DSA/05. MachineLearning/Cap-12-IntroduçãoDeepLearning/keras-tutorial/animals\")))\n",
    "random.seed(42)\n",
    "random.shuffle(imagePaths)\n",
    "\n",
    "for imagePath in imagePaths:\n",
    "    # carrega a imagem, redimensiona em 64x64,\n",
    "    # coloca na lista\n",
    "    image = cv2.imread(imagePath)\n",
    "    image = cv2.resize(image, (128, 128))\n",
    "    data.append(image)\n",
    "    \n",
    "    label = imagePath.split(os.path.sep)[-2]\n",
    "    labels.append(label)\n"
   ]
  },
  {
   "cell_type": "code",
   "execution_count": 8,
   "metadata": {},
   "outputs": [],
   "source": [
    "data = np.array(data, dtype=\"float\") / 255.0\n",
    "labels = np.array(labels)"
   ]
  },
  {
   "cell_type": "markdown",
   "metadata": {},
   "source": [
    "## Normalizando os dados em um range de [0,1]\n"
   ]
  },
  {
   "cell_type": "markdown",
   "metadata": {},
   "source": [
    "## Separando o dataset em treino e teste"
   ]
  },
  {
   "cell_type": "code",
   "execution_count": 9,
   "metadata": {},
   "outputs": [],
   "source": [
    "x_train, x_test, y_train, y_test = train_test_split(data, labels, test_size=0.25, random_state=42)"
   ]
  },
  {
   "cell_type": "markdown",
   "metadata": {},
   "source": [
    "## Transformando labels (y) que é string em vetor binario"
   ]
  },
  {
   "cell_type": "markdown",
   "metadata": {},
   "source": [
    "- 'fit_transform' localiza todos os rótulos de classe exclusivos em 'y_train' e, em seguida, os transforma em rótulos codificados de um único clique.\n",
    "\n",
    "- Uma chamada de apenas '.transform' em y_test executa apenas a etapa de codificação única: o conjunto exclusivo de rótulos de classe possíveis já foi determinado pela chamada para '.fit_transform.'"
   ]
  },
  {
   "cell_type": "code",
   "execution_count": 10,
   "metadata": {},
   "outputs": [],
   "source": [
    "lb = LabelBinarizer()\n",
    "y_train = lb.fit_transform(y_train) \n",
    "y_test = lb.transform(y_test) "
   ]
  },
  {
   "cell_type": "code",
   "execution_count": 11,
   "metadata": {},
   "outputs": [
    {
     "data": {
      "text/plain": [
       "array([0, 1, 0])"
      ]
     },
     "execution_count": 11,
     "metadata": {},
     "output_type": "execute_result"
    }
   ],
   "source": [
    "# Note que só um elemento do vetor tem valor 1, por isso é chamado de \"one-hot\"\n",
    "y_train[0]"
   ]
  },
  {
   "cell_type": "markdown",
   "metadata": {},
   "source": [
    "## Construindo geração de imagem para aumentar os dados"
   ]
  },
  {
   "cell_type": "code",
   "execution_count": 12,
   "metadata": {},
   "outputs": [],
   "source": [
    "aug = ImageDataGenerator(rotation_range=30, \n",
    "                         width_shift_range=0.1,\n",
    "                         height_shift_range=0.1,\n",
    "                         shear_range=0.2,\n",
    "                         zoom_range=0.2,\n",
    "                         horizontal_flip=True,\n",
    "                         fill_mode='nearest')\n",
    "valAug = ImageDataGenerator()"
   ]
  },
  {
   "cell_type": "markdown",
   "metadata": {},
   "source": [
    "## Criando Modelo"
   ]
  },
  {
   "cell_type": "code",
   "execution_count": 13,
   "metadata": {},
   "outputs": [
    {
     "name": "stdout",
     "output_type": "stream",
     "text": [
      "Classes transformadas pelo 'lb': 3\n"
     ]
    }
   ],
   "source": [
    "print(\"Classes transformadas pelo 'lb': %d\" %(len(lb.classes_)))"
   ]
  },
  {
   "cell_type": "code",
   "execution_count": 16,
   "metadata": {},
   "outputs": [],
   "source": [
    "# Criando modelo\n",
    "model = Sequential()\n",
    "\n",
    "# Inicializa o inputShape para \"channels_last\" (padrão TensorFlor)\n",
    "inputShape = (128, 128, 3) # pixels e profundidade (RGB tem profundidade 3)\n",
    "chanDim = -1\n",
    "\n",
    "# Se o keras tiver usando o \"channels_first\" (padrão Theano), atualiza o inputShape e channels dimension\n",
    "if K.image_data_format() == \"channels_first\":\n",
    "    inputShape = (3, 128, 128) # profundidade e pixels\n",
    "    chanDim = 1\n",
    "\n",
    "## BatchNormalization: é usada para normalizar as ativações de um determinado volume de entrada\n",
    "## antes de passá-lo para a próxima camada na rede. \n",
    "## Provou-se ser muito eficaz na redução do número de \"epochs\" necessárias para treinar uma CNN,\n",
    "## bem como estabilizar o treinamento em si.\n",
    "\n",
    "## MaxPooling2d: usado para redução do tamanho espacial, \n",
    "## é colocado entre as consecutivas CONV layers\n",
    "\n",
    "## Dropout: processo para reduzir o overfitting, aumentar a accuracy e generalizar o modelo\n",
    "## Como denotado pelo parâmetro, 25% das conexões do node são desconectadas aleatoriamente (drop out)\n",
    "## entre as camadas durante cada iteração de treinamento.\n",
    "\n",
    "# CONV => RELU => POOL layers set\n",
    "model.add(Conv2D(32, (3,3), padding=\"same\", input_shape=inputShape))\n",
    "model.add(Activation('relu'))\n",
    "model.add(BatchNormalization(axis=chanDim))\n",
    "model.add(MaxPooling2D(pool_size=(2,2)))\n",
    "model.add(Dropout(0.25))\n",
    "\n",
    "# (CONV => RELU) * 2 => POOL\n",
    "model.add(Conv2D(64,(3, 3), padding=\"same\"))\n",
    "model.add(Activation('relu'))\n",
    "model.add(BatchNormalization(axis=chanDim))\n",
    "model.add(Conv2D(64,(3, 3), padding=\"same\"))\n",
    "model.add(Activation('relu'))\n",
    "model.add(BatchNormalization(axis=chanDim))\n",
    "model.add(MaxPooling2D(pool_size=(2,2)))\n",
    "model.add(Dropout(0.25))\n",
    "\n",
    "# (CONV => RELU) * 3 => POOL\n",
    "model.add(Conv2D(128,(3, 3), padding=\"same\"))\n",
    "model.add(Activation('relu'))\n",
    "model.add(BatchNormalization(axis=chanDim))\n",
    "model.add(Conv2D(128,(3, 3), padding=\"same\"))\n",
    "model.add(Activation('relu'))\n",
    "model.add(BatchNormalization(axis=chanDim))\n",
    "model.add(Conv2D(128,(3, 3), padding=\"same\"))\n",
    "model.add(Activation('relu'))\n",
    "model.add(BatchNormalization(axis=chanDim))\n",
    "model.add(MaxPooling2D(pool_size=(2,2)))\n",
    "model.add(Dropout(0.25))\n",
    "\n",
    "# FC => RELU\n",
    "model.add(Flatten())\n",
    "model.add(Dense(256))\n",
    "model.add(Activation('relu'))\n",
    "model.add(BatchNormalization())\n",
    "model.add(Dropout(0.5))\n",
    "\n",
    "# Softmax classifier - Layer output\n",
    "model.add(Dense(len(lb.classes_)))\n",
    "model.add(Activation('softmax'))\n"
   ]
  },
  {
   "cell_type": "markdown",
   "metadata": {},
   "source": [
    "## Compilar Modelo"
   ]
  },
  {
   "cell_type": "code",
   "execution_count": 17,
   "metadata": {},
   "outputs": [],
   "source": [
    "from keras.optimizers import Adam\n",
    "INIT_LR = 0.01\n",
    "EPOCHS = 75\n",
    "BS = 32\n",
    "\n",
    "# Compilar o modelo usando SGD para otimização\n",
    "# Para perdas usando categorical_crossentropy (quando tem apenas duas classes em 'y' usar binary_crossentropy))\n",
    "opt=SGD(lr=INIT_LR, decay=INIT_LR / EPOCHS)\n",
    "opt_1 = Adam(lr=0.0001)\n",
    "model.compile(loss='categorical_crossentropy',\n",
    "              optimizer=opt_1,\n",
    "              metrics=['accuracy'])"
   ]
  },
  {
   "cell_type": "markdown",
   "metadata": {},
   "source": [
    "## Treinando o modelo\n"
   ]
  },
  {
   "cell_type": "code",
   "execution_count": 19,
   "metadata": {},
   "outputs": [
    {
     "name": "stdout",
     "output_type": "stream",
     "text": [
      "Epoch 1/75\n",
      "70/70 [==============================] - 356s 5s/step - loss: 0.9706 - acc: 0.6112 - val_loss: 0.8593 - val_acc: 0.6562\n",
      "Epoch 2/75\n",
      "70/70 [==============================] - 343s 5s/step - loss: 0.8859 - acc: 0.6305 - val_loss: 0.8273 - val_acc: 0.6825\n",
      "Epoch 3/75\n",
      "70/70 [==============================] - 343s 5s/step - loss: 0.8588 - acc: 0.6439 - val_loss: 1.3576 - val_acc: 0.6504\n",
      "Epoch 4/75\n",
      "70/70 [==============================] - 343s 5s/step - loss: 0.8639 - acc: 0.6451 - val_loss: 0.8219 - val_acc: 0.7075\n",
      "Epoch 5/75\n",
      "70/70 [==============================] - 343s 5s/step - loss: 0.7788 - acc: 0.6792 - val_loss: 0.8346 - val_acc: 0.6685\n",
      "Epoch 6/75\n",
      "70/70 [==============================] - 353s 5s/step - loss: 0.7518 - acc: 0.6789 - val_loss: 0.6834 - val_acc: 0.7089\n",
      "Epoch 7/75\n",
      "70/70 [==============================] - 368s 5s/step - loss: 0.7421 - acc: 0.6807 - val_loss: 0.7193 - val_acc: 0.7145\n",
      "Epoch 8/75\n",
      "70/70 [==============================] - 367s 5s/step - loss: 0.7334 - acc: 0.6699 - val_loss: 0.7595 - val_acc: 0.7117\n",
      "Epoch 9/75\n",
      "70/70 [==============================] - 384s 5s/step - loss: 0.7248 - acc: 0.6866 - val_loss: 0.7862 - val_acc: 0.6950\n",
      "Epoch 10/75\n",
      "70/70 [==============================] - 370s 5s/step - loss: 0.6992 - acc: 0.6983 - val_loss: 0.6184 - val_acc: 0.7465\n",
      "Epoch 11/75\n",
      "70/70 [==============================] - 365s 5s/step - loss: 0.6855 - acc: 0.7028 - val_loss: 0.6100 - val_acc: 0.7228\n",
      "Epoch 12/75\n",
      "70/70 [==============================] - 369s 5s/step - loss: 0.6562 - acc: 0.7090 - val_loss: 0.6225 - val_acc: 0.7284\n",
      "Epoch 13/75\n",
      "70/70 [==============================] - 370s 5s/step - loss: 0.6749 - acc: 0.7055 - val_loss: 0.6405 - val_acc: 0.7006\n",
      "Epoch 14/75\n",
      "70/70 [==============================] - 364s 5s/step - loss: 0.6406 - acc: 0.7244 - val_loss: 0.5302 - val_acc: 0.7549\n",
      "Epoch 15/75\n",
      "70/70 [==============================] - 363s 5s/step - loss: 0.6297 - acc: 0.7271 - val_loss: 0.5496 - val_acc: 0.7618\n",
      "Epoch 16/75\n",
      "70/70 [==============================] - 371s 5s/step - loss: 0.6107 - acc: 0.7387 - val_loss: 0.5292 - val_acc: 0.7577\n",
      "Epoch 17/75\n",
      "70/70 [==============================] - 373s 5s/step - loss: 0.6099 - acc: 0.7342 - val_loss: 0.5361 - val_acc: 0.7493\n",
      "Epoch 18/75\n",
      "70/70 [==============================] - 378s 5s/step - loss: 0.6005 - acc: 0.7224 - val_loss: 0.5490 - val_acc: 0.7535\n",
      "Epoch 19/75\n",
      "70/70 [==============================] - 371s 5s/step - loss: 0.5900 - acc: 0.7306 - val_loss: 0.5941 - val_acc: 0.7591\n",
      "Epoch 20/75\n",
      "70/70 [==============================] - 375s 5s/step - loss: 0.5518 - acc: 0.7566 - val_loss: 0.6222 - val_acc: 0.7493\n",
      "Epoch 21/75\n",
      "70/70 [==============================] - 369s 5s/step - loss: 0.5891 - acc: 0.7355 - val_loss: 0.5406 - val_acc: 0.7618\n",
      "Epoch 22/75\n",
      "70/70 [==============================] - 372s 5s/step - loss: 0.5442 - acc: 0.7493 - val_loss: 0.5250 - val_acc: 0.7688\n",
      "Epoch 23/75\n",
      "70/70 [==============================] - 380s 5s/step - loss: 0.5501 - acc: 0.7512 - val_loss: 0.6409 - val_acc: 0.7396\n",
      "Epoch 24/75\n",
      "70/70 [==============================] - 373s 5s/step - loss: 0.5607 - acc: 0.7382 - val_loss: 0.5443 - val_acc: 0.7688\n",
      "Epoch 25/75\n",
      "70/70 [==============================] - 353s 5s/step - loss: 0.5537 - acc: 0.7520 - val_loss: 0.8709 - val_acc: 0.7568\n",
      "Epoch 26/75\n",
      "70/70 [==============================] - 367s 5s/step - loss: 0.5132 - acc: 0.7721 - val_loss: 0.5602 - val_acc: 0.7799\n",
      "Epoch 27/75\n",
      "70/70 [==============================] - 356s 5s/step - loss: 0.5263 - acc: 0.7595 - val_loss: 0.4979 - val_acc: 0.8106\n",
      "Epoch 28/75\n",
      "70/70 [==============================] - 372s 5s/step - loss: 0.5330 - acc: 0.7520 - val_loss: 0.6353 - val_acc: 0.7479\n",
      "Epoch 29/75\n",
      "70/70 [==============================] - 360s 5s/step - loss: 0.5134 - acc: 0.7663 - val_loss: 0.7027 - val_acc: 0.7744\n",
      "Epoch 30/75\n",
      "70/70 [==============================] - 359s 5s/step - loss: 0.4974 - acc: 0.7780 - val_loss: 0.7887 - val_acc: 0.7228\n",
      "Epoch 31/75\n",
      "70/70 [==============================] - 345s 5s/step - loss: 0.5063 - acc: 0.7666 - val_loss: 1.1048 - val_acc: 0.7047\n",
      "Epoch 32/75\n",
      "70/70 [==============================] - 353s 5s/step - loss: 0.5061 - acc: 0.7719 - val_loss: 0.6432 - val_acc: 0.7437\n",
      "Epoch 33/75\n",
      "70/70 [==============================] - 354s 5s/step - loss: 0.5023 - acc: 0.7828 - val_loss: 0.7175 - val_acc: 0.7131\n",
      "Epoch 34/75\n",
      "70/70 [==============================] - 350s 5s/step - loss: 0.5003 - acc: 0.7771 - val_loss: 0.9157 - val_acc: 0.6685\n",
      "Epoch 35/75\n",
      "70/70 [==============================] - 351s 5s/step - loss: 0.4990 - acc: 0.7807 - val_loss: 0.4988 - val_acc: 0.7981\n",
      "Epoch 36/75\n",
      "70/70 [==============================] - 361s 5s/step - loss: 0.4825 - acc: 0.7881 - val_loss: 0.5637 - val_acc: 0.7813\n",
      "Epoch 37/75\n",
      "70/70 [==============================] - 358s 5s/step - loss: 0.5059 - acc: 0.7864 - val_loss: 0.5325 - val_acc: 0.7855\n",
      "Epoch 38/75\n",
      "70/70 [==============================] - 355s 5s/step - loss: 0.4972 - acc: 0.7692 - val_loss: 0.6005 - val_acc: 0.7674\n",
      "Epoch 39/75\n",
      "70/70 [==============================] - 369s 5s/step - loss: 0.4699 - acc: 0.7860 - val_loss: 0.6345 - val_acc: 0.7577\n",
      "Epoch 40/75\n",
      "70/70 [==============================] - 346s 5s/step - loss: 0.4631 - acc: 0.7928 - val_loss: 0.5075 - val_acc: 0.7967\n",
      "Epoch 41/75\n",
      "70/70 [==============================] - 346s 5s/step - loss: 0.4557 - acc: 0.7898 - val_loss: 0.6237 - val_acc: 0.7632\n",
      "Epoch 42/75\n",
      "70/70 [==============================] - 346s 5s/step - loss: 0.4532 - acc: 0.8007 - val_loss: 0.5437 - val_acc: 0.7897\n",
      "Epoch 43/75\n",
      "70/70 [==============================] - 346s 5s/step - loss: 0.4399 - acc: 0.8053 - val_loss: 0.4749 - val_acc: 0.8036\n",
      "Epoch 44/75\n",
      "70/70 [==============================] - 388s 6s/step - loss: 0.4244 - acc: 0.8056 - val_loss: 0.6185 - val_acc: 0.7507\n",
      "Epoch 45/75\n",
      "70/70 [==============================] - 384s 5s/step - loss: 0.4375 - acc: 0.8056 - val_loss: 0.7020 - val_acc: 0.7591\n",
      "Epoch 46/75\n",
      "70/70 [==============================] - 374s 5s/step - loss: 0.4624 - acc: 0.7900 - val_loss: 0.5779 - val_acc: 0.7883\n",
      "Epoch 47/75\n",
      "70/70 [==============================] - 375s 5s/step - loss: 0.4053 - acc: 0.8198 - val_loss: 0.7979 - val_acc: 0.7298\n",
      "Epoch 48/75\n",
      "70/70 [==============================] - 369s 5s/step - loss: 0.4275 - acc: 0.8101 - val_loss: 0.5092 - val_acc: 0.7981\n",
      "Epoch 49/75\n",
      "70/70 [==============================] - 386s 6s/step - loss: 0.4447 - acc: 0.8143 - val_loss: 0.6765 - val_acc: 0.7486\n",
      "Epoch 50/75\n",
      "70/70 [==============================] - 372s 5s/step - loss: 0.4174 - acc: 0.8232 - val_loss: 0.6739 - val_acc: 0.7591\n",
      "Epoch 51/75\n",
      "70/70 [==============================] - 359s 5s/step - loss: 0.4298 - acc: 0.8054 - val_loss: 0.6611 - val_acc: 0.7646\n",
      "Epoch 52/75\n",
      "70/70 [==============================] - 357s 5s/step - loss: 0.4184 - acc: 0.8137 - val_loss: 0.5693 - val_acc: 0.7730\n",
      "Epoch 53/75\n",
      "70/70 [==============================] - 354s 5s/step - loss: 0.3753 - acc: 0.8294 - val_loss: 0.5552 - val_acc: 0.7883\n",
      "Epoch 54/75\n",
      "70/70 [==============================] - 355s 5s/step - loss: 0.3963 - acc: 0.8247 - val_loss: 0.4901 - val_acc: 0.8078\n",
      "Epoch 55/75\n",
      "70/70 [==============================] - 344s 5s/step - loss: 0.3940 - acc: 0.8285 - val_loss: 0.5650 - val_acc: 0.7953\n",
      "Epoch 56/75\n",
      "70/70 [==============================] - 359s 5s/step - loss: 0.3750 - acc: 0.8329 - val_loss: 0.5628 - val_acc: 0.7911\n",
      "Epoch 57/75\n",
      "70/70 [==============================] - 368s 5s/step - loss: 0.3877 - acc: 0.8257 - val_loss: 0.7642 - val_acc: 0.7214\n",
      "Epoch 58/75\n",
      "70/70 [==============================] - 373s 5s/step - loss: 0.3840 - acc: 0.8327 - val_loss: 0.6171 - val_acc: 0.7855\n",
      "Epoch 59/75\n",
      "70/70 [==============================] - 369s 5s/step - loss: 0.3759 - acc: 0.8386 - val_loss: 0.5106 - val_acc: 0.8384\n",
      "Epoch 60/75\n",
      "70/70 [==============================] - 361s 5s/step - loss: 0.3910 - acc: 0.8306 - val_loss: 1.1215 - val_acc: 0.6657\n",
      "Epoch 61/75\n",
      "70/70 [==============================] - 374s 5s/step - loss: 0.3420 - acc: 0.8504 - val_loss: 0.5574 - val_acc: 0.8175\n",
      "Epoch 62/75\n",
      "70/70 [==============================] - 387s 6s/step - loss: 0.3849 - acc: 0.8387 - val_loss: 0.7462 - val_acc: 0.7521\n",
      "Epoch 63/75\n",
      "70/70 [==============================] - 382s 5s/step - loss: 0.3391 - acc: 0.8602 - val_loss: 0.5208 - val_acc: 0.8022\n",
      "Epoch 64/75\n",
      "70/70 [==============================] - 414s 6s/step - loss: 0.3887 - acc: 0.8328 - val_loss: 0.6914 - val_acc: 0.7493\n",
      "Epoch 65/75\n",
      "70/70 [==============================] - 348s 5s/step - loss: 0.3617 - acc: 0.8370 - val_loss: 0.6642 - val_acc: 0.7994\n",
      "Epoch 66/75\n",
      "70/70 [==============================] - 380s 5s/step - loss: 0.3577 - acc: 0.8459 - val_loss: 1.4739 - val_acc: 0.6058\n",
      "Epoch 67/75\n",
      "70/70 [==============================] - 395s 6s/step - loss: 0.3261 - acc: 0.8655 - val_loss: 0.7768 - val_acc: 0.7465\n",
      "Epoch 68/75\n",
      "70/70 [==============================] - 394s 6s/step - loss: 0.3588 - acc: 0.8507 - val_loss: 0.8883 - val_acc: 0.7214\n",
      "Epoch 69/75\n",
      "70/70 [==============================] - 4820s 69s/step - loss: 0.3607 - acc: 0.8454 - val_loss: 0.5119 - val_acc: 0.8454\n",
      "Epoch 70/75\n",
      "70/70 [==============================] - 348s 5s/step - loss: 0.3328 - acc: 0.8645 - val_loss: 0.7593 - val_acc: 0.7423\n",
      "Epoch 71/75\n",
      "70/70 [==============================] - 348s 5s/step - loss: 0.3573 - acc: 0.8508 - val_loss: 0.6519 - val_acc: 0.7786\n",
      "Epoch 72/75\n",
      "70/70 [==============================] - 382s 5s/step - loss: 0.3524 - acc: 0.8411 - val_loss: 0.6210 - val_acc: 0.7897\n",
      "Epoch 73/75\n",
      "70/70 [==============================] - 378s 5s/step - loss: 0.3470 - acc: 0.8543 - val_loss: 0.6151 - val_acc: 0.7948\n",
      "Epoch 74/75\n",
      "70/70 [==============================] - 358s 5s/step - loss: 0.3390 - acc: 0.8453 - val_loss: 0.5827 - val_acc: 0.8008\n",
      "Epoch 75/75\n",
      "70/70 [==============================] - 356s 5s/step - loss: 0.3348 - acc: 0.8488 - val_loss: 0.5763 - val_acc: 0.8036\n"
     ]
    }
   ],
   "source": [
    "## Como estamos realizando o aumento de dados, chamamos 'model.fit_generator' (em vez de model.fit).\n",
    "## Devemos passar o gerador com nossos dados de treinamento como o primeiro parâmetro.\n",
    "## O gerador produzirá lotes de dados de treinamento aumentados de acordo com as\n",
    "## configurações feitas anteriormente.\n",
    "\n",
    "H = model.fit_generator(\n",
    "                        aug.flow(x_train, y_train, batch_size=BS),\n",
    "                        steps_per_epoch=len(x_train) // BS,\n",
    "                        validation_data=valAug.flow(x_test, y_test),\n",
    "                        validation_steps=len(x_test) // BS,\n",
    "                        epochs=EPOCHS)"
   ]
  },
  {
   "cell_type": "markdown",
   "metadata": {},
   "source": [
    "## Avaliando o Modelo"
   ]
  },
  {
   "cell_type": "code",
   "execution_count": 20,
   "metadata": {},
   "outputs": [
    {
     "name": "stdout",
     "output_type": "stream",
     "text": [
      "              precision    recall  f1-score   support\n",
      "\n",
      "        cats       0.71      0.83      0.77       236\n",
      "        dogs       0.78      0.66      0.72       236\n",
      "       panda       0.95      0.94      0.94       278\n",
      "\n",
      "    accuracy                           0.82       750\n",
      "   macro avg       0.81      0.81      0.81       750\n",
      "weighted avg       0.82      0.82      0.82       750\n",
      "\n"
     ]
    }
   ],
   "source": [
    "pred = model.predict(x_test, batch_size=32)\n",
    "print(classification_report(y_test.argmax(axis=1),\n",
    "                            pred.argmax(axis=1), target_names=lb.classes_))\n"
   ]
  },
  {
   "cell_type": "markdown",
   "metadata": {},
   "source": [
    "## Plotando loss x accuracy"
   ]
  },
  {
   "cell_type": "code",
   "execution_count": 21,
   "metadata": {},
   "outputs": [
    {
     "data": {
      "image/png": "[encoded data removed]",
      "text/plain": [
       "<Figure size 432x288 with 1 Axes>"
      ]
     },
     "metadata": {},
     "output_type": "display_data"
    }
   ],
   "source": [
    "N=np.arange(0,EPOCHS)\n",
    "plt.style.use(\"ggplot\")\n",
    "plt.figure()\n",
    "plt.plot(N, H.history['loss'], label='train_loss')\n",
    "plt.plot(N, H.history['val_loss'], label='val_loss')\n",
    "plt.plot(N, H.history['acc'], label='acc')\n",
    "plt.plot(N, H.history['val_acc'], label='val_acc')\n",
    "plt.title(\"Training Loss and Accuracy (CNN)\")\n",
    "plt.xlabel(\"Epoch #\")\n",
    "plt.ylabel(\"Loss/Accuracy\")\n",
    "plt.legend()\n",
    "plt.show()"
   ]
  },
  {
   "cell_type": "markdown",
   "metadata": {},
   "source": [
    "## Predição com novo Dado"
   ]
  },
  {
   "cell_type": "code",
   "execution_count": 27,
   "metadata": {},
   "outputs": [],
   "source": [
    "# Carregando imagem\n",
    "new_image = cv2.imread(\"/home/matheusjerico/Documentos/DSA/05. MachineLearning/Cap-12-IntroduçãoDeepLearning/keras-tutorial/images/dog.jpg\")\n",
    "output = image.copy()\n",
    "\n",
    "# Redimensionando\n",
    "new_image = cv2.resize(new_image, (128, 128))\n",
    "\n",
    "# Normalizando os dados no range[0,1]\n",
    "new_image = new_image.astype(\"float32\") / 255.0\n",
    "\n",
    "# Como é uma CNN, é necessário colcoar a dimensão da imagem\n",
    "new_image = new_image.reshape(1, new_image.shape[0], new_image.shape[1], new_image.shape[2])"
   ]
  },
  {
   "cell_type": "code",
   "execution_count": 28,
   "metadata": {},
   "outputs": [
    {
     "name": "stdout",
     "output_type": "stream",
     "text": [
      "[[6.6218324e-02 9.3321425e-01 5.6737656e-04]]\n",
      "1\n",
      "dogs\n"
     ]
    }
   ],
   "source": [
    "preds = model.predict(new_image)\n",
    "print(preds)\n",
    "i = preds.argmax(axis=1)[0] # retorna o index que tem o maior valor\n",
    "print(i)\n",
    "label = lb.classes_[i] # extrai a string 'do animal' que é a que possui index (label binarizer)\n",
    "print(label)\n"
   ]
  },
  {
   "cell_type": "code",
   "execution_count": 29,
   "metadata": {},
   "outputs": [
    {
     "data": {
      "text/plain": [
       "113"
      ]
     },
     "execution_count": 29,
     "metadata": {},
     "output_type": "execute_result"
    }
   ],
   "source": [
    "# Apresentando resultado\n",
    "text=\"{}: {:.2f}f\".format(label, preds[0][i]*100)\n",
    "cv2.putText(output, text, (10,30),cv2.FONT_HERSHEY_SIMPLEX,0.7,\n",
    "            (0, 0, 255),2)\n",
    "\n",
    "cv2.imshow(\"Image\",output)\n",
    "cv2.waitKey(0)"
   ]
  },
  {
   "cell_type": "code",
   "execution_count": null,
   "metadata": {},
   "outputs": [],
   "source": []
  }
 ],
 "metadata": {
  "kernelspec": {
   "display_name": "Python 3",
   "language": "python",
   "name": "python3"
  },
  "language_info": {
   "codemirror_mode": {
    "name": "ipython",
    "version": 3
   },
   "file_extension": ".py",
   "mimetype": "text/x-python",
   "name": "python",
   "nbconvert_exporter": "python",
   "pygments_lexer": "ipython3",
   "version": "3.6.7"
  }
 },
 "nbformat": 4,
 "nbformat_minor": 2
}
