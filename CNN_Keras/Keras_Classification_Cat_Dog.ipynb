{
 "cells": [
  {
   "cell_type": "markdown",
   "metadata": {},
   "source": [
    "# Classificando gatos e cachorros\n"
   ]
  },
  {
   "cell_type": "code",
   "execution_count": 1,
   "metadata": {},
   "outputs": [
    {
     "name": "stderr",
     "output_type": "stream",
     "text": [
      "Using TensorFlow backend.\n"
     ]
    }
   ],
   "source": [
    "from keras.models import Sequential\n",
    "from keras.layers import Conv2D, Dropout, Flatten, MaxPooling2D, BatchNormalization, Dense\n",
    "from keras.preprocessing.image import ImageDataGenerator\n",
    "import numpy as np"
   ]
  },
  {
   "cell_type": "markdown",
   "metadata": {},
   "source": [
    "### Definindo o modelo"
   ]
  },
  {
   "cell_type": "code",
   "execution_count": 2,
   "metadata": {},
   "outputs": [],
   "source": [
    "from keras.optimizers import RMSprop"
   ]
  },
  {
   "cell_type": "code",
   "execution_count": 3,
   "metadata": {},
   "outputs": [],
   "source": [
    "import keras.backend as K"
   ]
  },
  {
   "cell_type": "code",
   "execution_count": 4,
   "metadata": {},
   "outputs": [
    {
     "data": {
      "text/plain": [
       "'channels_last'"
      ]
     },
     "execution_count": 4,
     "metadata": {},
     "output_type": "execute_result"
    }
   ],
   "source": [
    "K.image_data_format()"
   ]
  },
  {
   "cell_type": "code",
   "execution_count": 5,
   "metadata": {},
   "outputs": [
    {
     "name": "stdout",
     "output_type": "stream",
     "text": [
      "WARNING:tensorflow:From /home/matheusjerico/anaconda3/lib/python3.6/site-packages/tensorflow/python/framework/op_def_library.py:263: colocate_with (from tensorflow.python.framework.ops) is deprecated and will be removed in a future version.\n",
      "Instructions for updating:\n",
      "Colocations handled automatically by placer.\n",
      "WARNING:tensorflow:From /home/matheusjerico/anaconda3/lib/python3.6/site-packages/keras/backend/tensorflow_backend.py:3445: calling dropout (from tensorflow.python.ops.nn_ops) with keep_prob is deprecated and will be removed in a future version.\n",
      "Instructions for updating:\n",
      "Please use `rate` instead of `keep_prob`. Rate should be set to `rate = 1 - keep_prob`.\n"
     ]
    }
   ],
   "source": [
    "# Criando modelo\n",
    "model = Sequential()\n",
    "\n",
    "model.add(Conv2D(32, (3,3), input_shape=(64, 64, 3), padding='same', activation = 'relu'))\n",
    "model.add(BatchNormalization())\n",
    "model.add(Conv2D(32, (3,3), padding='same', activation = 'relu'))\n",
    "model.add(BatchNormalization())\n",
    "model.add(MaxPooling2D(pool_size = (2,2)))\n",
    "model.add(Dropout(0.25))\n",
    "\n",
    "model.add(Conv2D(64, (3,3), padding='same', activation = 'relu'))\n",
    "model.add(BatchNormalization())\n",
    "model.add(Conv2D(64, (3,3), padding='same', activation = 'relu'))\n",
    "model.add(BatchNormalization())\n",
    "model.add(MaxPooling2D(pool_size = (2,2)))\n",
    "model.add(Dropout(0.25))\n",
    "\n",
    "model.add(Flatten())\n",
    "\n",
    "model.add(Dense(128, activation='relu'))\n",
    "model.add(Dropout(0.2))\n",
    "\n",
    "model.add(Dense(1, activation='sigmoid'))\n",
    "\n",
    "# Compilar modelo\n",
    "model.compile(optimizer = RMSprop(lr=0.0001), loss='binary_crossentropy',\n",
    "              metrics = ['accuracy'])\n"
   ]
  },
  {
   "cell_type": "code",
   "execution_count": 6,
   "metadata": {},
   "outputs": [],
   "source": [
    "# Carregando imagens e normalizando as imagens \n",
    "# Normalziando => imagem = imagem / 255\n",
    "ger_image_treinamento = ImageDataGenerator(rescale=1./255,\n",
    "                               rotation_range=7,\n",
    "                               horizontal_flip= True,\n",
    "                               shear_range= 0.2, \n",
    "                               height_shift_range= 0.07,\n",
    "                               zoom_range= 0.2)"
   ]
  },
  {
   "cell_type": "code",
   "execution_count": 7,
   "metadata": {},
   "outputs": [],
   "source": [
    "ger_image_teste = ImageDataGenerator(rescale= 1./255) # Apenas o parametro de normalização"
   ]
  },
  {
   "cell_type": "code",
   "execution_count": 8,
   "metadata": {},
   "outputs": [
    {
     "name": "stdout",
     "output_type": "stream",
     "text": [
      "Found 4000 images belonging to 2 classes.\n"
     ]
    }
   ],
   "source": [
    "# Criar base de dados de treinamento\n",
    "base_treinamento = ger_image_treinamento.flow_from_directory('/home/matheusjerico/Documentos/DSA/05. MachineLearning/Cap-12-IntroduçãoDeepLearning/dataset_udemy/dataset/training_set',\n",
    "                                                             target_size=(64, 64),\n",
    "                                                             shuffle=True,\n",
    "                                                             batch_size= 32,\n",
    "                                                             class_mode= 'binary')"
   ]
  },
  {
   "cell_type": "code",
   "execution_count": 9,
   "metadata": {},
   "outputs": [
    {
     "data": {
      "text/plain": [
       "125"
      ]
     },
     "execution_count": 9,
     "metadata": {},
     "output_type": "execute_result"
    }
   ],
   "source": [
    "len(base_treinamento)"
   ]
  },
  {
   "cell_type": "code",
   "execution_count": 44,
   "metadata": {},
   "outputs": [
    {
     "name": "stdout",
     "output_type": "stream",
     "text": [
      "Found 1000 images belonging to 2 classes.\n"
     ]
    }
   ],
   "source": [
    "base_teste = ger_image_teste.flow_from_directory('/home/matheusjerico/Documentos/DSA/05. MachineLearning/Cap-12-IntroduçãoDeepLearning/dataset_udemy/dataset/test_set',\n",
    "                                                target_size= (64, 64),\n",
    "                                                shuffle= True,\n",
    "                                                batch_size=32,\n",
    "                                                class_mode='binary')"
   ]
  },
  {
   "cell_type": "code",
   "execution_count": 45,
   "metadata": {},
   "outputs": [
    {
     "data": {
      "text/plain": [
       "1"
      ]
     },
     "execution_count": 45,
     "metadata": {},
     "output_type": "execute_result"
    }
   ],
   "source": [
    "len(base_teste)"
   ]
  },
  {
   "cell_type": "code",
   "execution_count": 188,
   "metadata": {},
   "outputs": [
    {
     "data": {
      "text/plain": [
       "{'cachorro': 0, 'gato': 1}"
      ]
     },
     "execution_count": 188,
     "metadata": {},
     "output_type": "execute_result"
    }
   ],
   "source": [
    "base_treinamento.class_indices"
   ]
  },
  {
   "cell_type": "code",
   "execution_count": 189,
   "metadata": {},
   "outputs": [
    {
     "name": "stdout",
     "output_type": "stream",
     "text": [
      "Epoch 1/20\n",
      "125/125 [==============================] - 146s 1s/step - loss: 0.7643 - acc: 0.5988 - val_loss: 0.5477 - val_acc: 0.7188\n",
      "Epoch 2/20\n",
      "125/125 [==============================] - 145s 1s/step - loss: 0.6448 - acc: 0.6415 - val_loss: 0.7553 - val_acc: 0.5312\n",
      "Epoch 3/20\n",
      "125/125 [==============================] - 142s 1s/step - loss: 0.6233 - acc: 0.6595 - val_loss: 0.7646 - val_acc: 0.5625\n",
      "Epoch 4/20\n",
      "125/125 [==============================] - 138s 1s/step - loss: 0.5988 - acc: 0.6903 - val_loss: 0.9970 - val_acc: 0.6562\n",
      "Epoch 5/20\n",
      "125/125 [==============================] - 134s 1s/step - loss: 0.5755 - acc: 0.7010 - val_loss: 0.8605 - val_acc: 0.5625\n",
      "Epoch 6/20\n",
      "125/125 [==============================] - 130s 1s/step - loss: 0.5728 - acc: 0.6963 - val_loss: 0.5526 - val_acc: 0.6562\n",
      "Epoch 7/20\n",
      "125/125 [==============================] - 132s 1s/step - loss: 0.5604 - acc: 0.7137 - val_loss: 0.6299 - val_acc: 0.7188\n",
      "Epoch 8/20\n",
      "125/125 [==============================] - 128s 1s/step - loss: 0.5405 - acc: 0.7258 - val_loss: 0.5030 - val_acc: 0.8125\n",
      "Epoch 9/20\n",
      "125/125 [==============================] - 127s 1s/step - loss: 0.5372 - acc: 0.7305 - val_loss: 0.4069 - val_acc: 0.7812\n",
      "Epoch 10/20\n",
      "125/125 [==============================] - 129s 1s/step - loss: 0.5125 - acc: 0.7482 - val_loss: 0.6662 - val_acc: 0.6875\n",
      "Epoch 11/20\n",
      "125/125 [==============================] - 128s 1s/step - loss: 0.5274 - acc: 0.7442 - val_loss: 0.7495 - val_acc: 0.7188\n",
      "Epoch 12/20\n",
      "125/125 [==============================] - 128s 1s/step - loss: 0.5041 - acc: 0.7518 - val_loss: 0.4645 - val_acc: 0.7812\n",
      "Epoch 13/20\n",
      "125/125 [==============================] - 126s 1s/step - loss: 0.5093 - acc: 0.7565 - val_loss: 0.7441 - val_acc: 0.6250\n",
      "Epoch 14/20\n",
      "125/125 [==============================] - 126s 1s/step - loss: 0.4822 - acc: 0.7730 - val_loss: 0.8036 - val_acc: 0.6875\n",
      "Epoch 15/20\n",
      "125/125 [==============================] - 125s 1s/step - loss: 0.4653 - acc: 0.7800 - val_loss: 0.5922 - val_acc: 0.7500\n",
      "Epoch 16/20\n",
      "125/125 [==============================] - 125s 999ms/step - loss: 0.4609 - acc: 0.7843 - val_loss: 0.7325 - val_acc: 0.6562\n",
      "Epoch 17/20\n",
      "125/125 [==============================] - 125s 1s/step - loss: 0.4613 - acc: 0.7885 - val_loss: 0.5770 - val_acc: 0.7500\n",
      "Epoch 18/20\n",
      "125/125 [==============================] - 125s 999ms/step - loss: 0.4588 - acc: 0.7820 - val_loss: 0.5157 - val_acc: 0.7500\n",
      "Epoch 19/20\n",
      "125/125 [==============================] - 129s 1s/step - loss: 0.4446 - acc: 0.7998 - val_loss: 0.4683 - val_acc: 0.7500\n",
      "Epoch 20/20\n",
      "125/125 [==============================] - 127s 1s/step - loss: 0.4293 - acc: 0.8105 - val_loss: 0.3995 - val_acc: 0.8438\n"
     ]
    }
   ],
   "source": [
    "# Fit no modelo com fit_generator\n",
    "H=model.fit_generator(base_treinamento, epochs= 20, steps_per_epoch=len(base_treinamento.filenames) // 32,\n",
    "                    validation_data= base_teste, validation_steps=len(base_teste) // 32)"
   ]
  },
  {
   "cell_type": "code",
   "execution_count": 1,
   "metadata": {},
   "outputs": [
    {
     "ename": "NameError",
     "evalue": "name 'model' is not defined",
     "output_type": "error",
     "traceback": [
      "\u001b[0;31m---------------------------------------------------------------------------\u001b[0m",
      "\u001b[0;31mNameError\u001b[0m                                 Traceback (most recent call last)",
      "\u001b[0;32m<ipython-input-1-a76bb73dc46e>\u001b[0m in \u001b[0;36m<module>\u001b[0;34m\u001b[0m\n\u001b[1;32m      1\u001b[0m \u001b[0;31m# Score trained model.\u001b[0m\u001b[0;34m\u001b[0m\u001b[0;34m\u001b[0m\u001b[0;34m\u001b[0m\u001b[0m\n\u001b[0;32m----> 2\u001b[0;31m \u001b[0mscores\u001b[0m \u001b[0;34m=\u001b[0m \u001b[0mmodel\u001b[0m\u001b[0;34m.\u001b[0m\u001b[0mevaluate_generator\u001b[0m\u001b[0;34m(\u001b[0m\u001b[0mgenerator\u001b[0m\u001b[0;34m=\u001b[0m\u001b[0mbase_treinamento\u001b[0m\u001b[0;34m,\u001b[0m \u001b[0msteps\u001b[0m \u001b[0;34m=\u001b[0m \u001b[0;36m32\u001b[0m\u001b[0;34m)\u001b[0m\u001b[0;34m\u001b[0m\u001b[0;34m\u001b[0m\u001b[0m\n\u001b[0m",
      "\u001b[0;31mNameError\u001b[0m: name 'model' is not defined"
     ]
    }
   ],
   "source": [
    "# Score trained model.\n",
    "scores = model.evaluate_generator(generator=base_treinamento, steps = 32)"
   ]
  },
  {
   "cell_type": "code",
   "execution_count": 191,
   "metadata": {},
   "outputs": [
    {
     "data": {
      "text/plain": [
       "[0.49886799696832895, 0.77734375]"
      ]
     },
     "execution_count": 191,
     "metadata": {},
     "output_type": "execute_result"
    }
   ],
   "source": [
    "scores"
   ]
  },
  {
   "cell_type": "code",
   "execution_count": 171,
   "metadata": {},
   "outputs": [],
   "source": [
    "# Validar passando uma imagem\n",
    "from keras.preprocessing import image\n",
    "\n",
    "# carrega a imagem\n",
    "imagem_teste = image.load_img(\"/home/matheusjerico/Documentos/DSA/05. MachineLearning/Cap-12-IntroduçãoDeepLearning/dataset_udemy/dataset/test_set/cachorro/dog.3517.jpg\",\n",
    "                              target_size=(64, 64))\n"
   ]
  },
  {
   "cell_type": "code",
   "execution_count": 134,
   "metadata": {},
   "outputs": [
    {
     "data": {
      "image/png": "[encoded data removed]",
      "text/plain": [
       "<Figure size 432x288 with 1 Axes>"
      ]
     },
     "metadata": {},
     "output_type": "display_data"
    }
   ],
   "source": [
    "from skimage import io\n",
    "\n",
    "def imshow(image_RGB):\n",
    "  io.imshow(image_RGB)\n",
    "  io.show()\n",
    "\n",
    "x,y = base_teste.next()\n",
    "\n",
    "for i in range(0,1):\n",
    "    image = x[i]\n",
    "    imshow(image)"
   ]
  },
  {
   "cell_type": "code",
   "execution_count": 172,
   "metadata": {},
   "outputs": [
    {
     "name": "stdout",
     "output_type": "stream",
     "text": [
      "<class 'PIL.Image.Image'>\n",
      "<class 'numpy.ndarray'>\n"
     ]
    }
   ],
   "source": [
    "print(type(imagem_teste))\n",
    "imagem_teste = image.img_to_array(imagem_teste)\n",
    "print(type(imagem_teste))"
   ]
  },
  {
   "cell_type": "code",
   "execution_count": 173,
   "metadata": {},
   "outputs": [],
   "source": [
    "# Normalizando a imagem\n",
    "imagem_teste /= 255.0"
   ]
  },
  {
   "cell_type": "code",
   "execution_count": 174,
   "metadata": {},
   "outputs": [
    {
     "data": {
      "text/plain": [
       "(64, 64, 3)"
      ]
     },
     "execution_count": 174,
     "metadata": {},
     "output_type": "execute_result"
    }
   ],
   "source": [
    "# Shape\n",
    "imagem_teste.shape"
   ]
  },
  {
   "cell_type": "code",
   "execution_count": 175,
   "metadata": {},
   "outputs": [
    {
     "data": {
      "text/plain": [
       "(1, 64, 64, 3)"
      ]
     },
     "execution_count": 175,
     "metadata": {},
     "output_type": "execute_result"
    }
   ],
   "source": [
    "# Colocando a imagem no formato necessário para o modelo\n",
    "imagem_teste = imagem_teste.reshape(1, imagem_teste.shape[0], imagem_teste.shape[1], imagem_teste.shape[2])\n",
    "imagem_teste.shape"
   ]
  },
  {
   "cell_type": "code",
   "execution_count": null,
   "metadata": {},
   "outputs": [],
   "source": []
  },
  {
   "cell_type": "code",
   "execution_count": 176,
   "metadata": {},
   "outputs": [
    {
     "data": {
      "text/plain": [
       "array([[0.438383]], dtype=float32)"
      ]
     },
     "execution_count": 176,
     "metadata": {},
     "output_type": "execute_result"
    }
   ],
   "source": [
    "# Prevendo\n",
    "pred = model.predict(imagem_teste)\n",
    "pred"
   ]
  },
  {
   "cell_type": "code",
   "execution_count": 177,
   "metadata": {},
   "outputs": [
    {
     "data": {
      "text/plain": [
       "{'cachorro': 0, 'gato': 1}"
      ]
     },
     "execution_count": 177,
     "metadata": {},
     "output_type": "execute_result"
    }
   ],
   "source": [
    "base_treinamento.class_indices"
   ]
  },
  {
   "cell_type": "code",
   "execution_count": 170,
   "metadata": {},
   "outputs": [
    {
     "data": {
      "image/png": "[encoded data removed]",
      "text/plain": [
       "<Figure size 432x288 with 1 Axes>"
      ]
     },
     "metadata": {},
     "output_type": "display_data"
    }
   ],
   "source": [
    "import matplotlib.pyplot as plt\n",
    "%matplotlib inline\n",
    "\n",
    "# Plocando acc e loss em relação aos epochs\n",
    "plt.style.use(\"ggplot\")\n",
    "plt.figure()\n",
    "plt.plot(H.history['loss'], label='train_loss')\n",
    "plt.plot(H.history['val_loss'], label='val_loss')\n",
    "plt.plot(H.history['acc'], label='acc')\n",
    "plt.plot(H.history['val_acc'], label='val_acc')\n",
    "plt.title(\"Training Loss and Accuracy (CNN)\")\n",
    "plt.xlabel(\"Epoch #\")\n",
    "plt.ylabel(\"Loss/Accuracy\")\n",
    "plt.legend()\n",
    "plt.show()"
   ]
  },
  {
   "cell_type": "code",
   "execution_count": null,
   "metadata": {},
   "outputs": [],
   "source": []
  }
 ],
 "metadata": {
  "kernelspec": {
   "display_name": "Python 3",
   "language": "python",
   "name": "python3"
  },
  "language_info": {
   "codemirror_mode": {
    "name": "ipython",
    "version": 3
   },
   "file_extension": ".py",
   "mimetype": "text/x-python",
   "name": "python",
   "nbconvert_exporter": "python",
   "pygments_lexer": "ipython3",
   "version": "3.6.7"
  }
 },
 "nbformat": 4,
 "nbformat_minor": 2
}
