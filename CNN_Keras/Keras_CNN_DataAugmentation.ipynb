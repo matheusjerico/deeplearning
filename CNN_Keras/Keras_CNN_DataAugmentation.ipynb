{
 "cells": [
  {
   "cell_type": "markdown",
   "metadata": {},
   "source": [
    "# Data augmentation with Keras"
   ]
  },
  {
   "cell_type": "markdown",
   "metadata": {},
   "source": [
    "### Instalando bibliotecas"
   ]
  },
  {
   "cell_type": "code",
   "execution_count": 1,
   "metadata": {},
   "outputs": [],
   "source": [
    "import matplotlib\n",
    "%matplotlib inline"
   ]
  },
  {
   "cell_type": "code",
   "execution_count": 2,
   "metadata": {},
   "outputs": [
    {
     "name": "stderr",
     "output_type": "stream",
     "text": [
      "Using TensorFlow backend.\n"
     ]
    }
   ],
   "source": [
    "from kerasDataAugmentation.pyimagesearch.resnet import ResNet\n",
    "from sklearn.preprocessing import LabelEncoder\n",
    "from sklearn.metrics import classification_report\n",
    "from sklearn.model_selection import train_test_split\n",
    "from keras.preprocessing.image import ImageDataGenerator\n",
    "from keras.optimizers import SGD\n",
    "from keras.utils import np_utils\n",
    "from imutils import paths\n",
    "import matplotlib.pyplot as plt\n",
    "import numpy as np\n",
    "import os\n",
    "import cv2"
   ]
  },
  {
   "cell_type": "markdown",
   "metadata": {},
   "source": [
    "### Hiperparametros, Carregamento das Imagens, Normalização"
   ]
  },
  {
   "cell_type": "code",
   "execution_count": 3,
   "metadata": {},
   "outputs": [],
   "source": [
    "# Inicialização dos parâmetros learning rate, batch size e epochs\n",
    "\n",
    "INIT_LR = 1e-1\n",
    "BS = 8\n",
    "EPOCHS = 50"
   ]
  },
  {
   "cell_type": "code",
   "execution_count": 4,
   "metadata": {},
   "outputs": [],
   "source": [
    "# Carregando imagens e labels\n",
    "\n",
    "data = []\n",
    "labels = []\n",
    "\n",
    "imagePaths = list(paths.list_images('/home/matheusjerico/Documentos/DSA/05. MachineLearning/Cap-12-IntroduçãoDeepLearning/kerasDataAugmentation/dogs_vs_cats_small'))\n",
    "\n",
    "for imagePath in imagePaths:\n",
    "    label = imagePath.split(os.path.sep)[-2]\n",
    "    image = cv2.imread(imagePath)\n",
    "    image = cv2.resize(image, (64, 64))\n",
    "    \n",
    "    labels.append(label)\n",
    "    data.append(image)"
   ]
  },
  {
   "cell_type": "code",
   "execution_count": 5,
   "metadata": {},
   "outputs": [],
   "source": [
    "# Normalizando imagens\n",
    "# Convertento em um array com range de [0:1]\n",
    "\n",
    "data = np.array(data, dtype= 'f') / 255."
   ]
  },
  {
   "cell_type": "code",
   "execution_count": 6,
   "metadata": {},
   "outputs": [],
   "source": [
    "# Encoder nas labels\n",
    "\n",
    "le = LabelEncoder()\n",
    "labels = le.fit_transform(labels)\n",
    "labels = np_utils.to_categorical(labels)"
   ]
  },
  {
   "cell_type": "markdown",
   "metadata": {},
   "source": [
    "### Separando dados em treino e teste"
   ]
  },
  {
   "cell_type": "code",
   "execution_count": 7,
   "metadata": {},
   "outputs": [],
   "source": [
    "# Separando os dados em treino e teste\n",
    "\n",
    "x_train, x_test, y_train, y_test = train_test_split(data, labels, test_size = 0.25, random_state=42)"
   ]
  },
  {
   "cell_type": "code",
   "execution_count": 8,
   "metadata": {},
   "outputs": [
    {
     "name": "stdout",
     "output_type": "stream",
     "text": [
      "(1500, 64, 64, 3)\n",
      "(1500, 2)\n",
      "------------\n",
      "(500, 64, 64, 3)\n",
      "(500, 2)\n"
     ]
    }
   ],
   "source": [
    "print(x_train.shape)\n",
    "print(y_train.shape)\n",
    "print(\"------------\")\n",
    "print(x_test.shape)\n",
    "print(y_test.shape)"
   ]
  },
  {
   "cell_type": "markdown",
   "metadata": {},
   "source": [
    "### Inicializando data augmentation"
   ]
  },
  {
   "cell_type": "code",
   "execution_count": 9,
   "metadata": {},
   "outputs": [],
   "source": [
    "aug = ImageDataGenerator(\n",
    "        rotation_range=20,\n",
    "        zoom_range=0.15,\n",
    "        width_shift_range=0.2,\n",
    "        height_shift_range=0.2,\n",
    "        shear_range=0.12,\n",
    "        horizontal_flip=True,\n",
    "        fill_mode='nearest')"
   ]
  },
  {
   "cell_type": "markdown",
   "metadata": {},
   "source": [
    "### Compile e Fit no modelo"
   ]
  },
  {
   "cell_type": "code",
   "execution_count": 10,
   "metadata": {},
   "outputs": [
    {
     "name": "stdout",
     "output_type": "stream",
     "text": [
      "WARNING:tensorflow:From /home/matheusjerico/anaconda3/lib/python3.6/site-packages/tensorflow/python/framework/op_def_library.py:263: colocate_with (from tensorflow.python.framework.ops) is deprecated and will be removed in a future version.\n",
      "Instructions for updating:\n",
      "Colocations handled automatically by placer.\n"
     ]
    }
   ],
   "source": [
    "# Configurando parâmetros de otimização\n",
    "opt = SGD(lr=INIT_LR, momentum=0.9 , decay= INIT_LR / EPOCHS)\n",
    "\n",
    "# Criando modelo\n",
    "# def build(width, height, depth, classes, stages, filters, reg=0.0001, bnEps=2e-5, bnMom=0.9)\n",
    "model = ResNet.build(64, 64, 3, 2, (2, 3, 4), (32, 64, 128, 256), reg = 0.0001)\n",
    "model.compile(loss='binary_crossentropy', optimizer = opt, metrics = ['accuracy'])"
   ]
  },
  {
   "cell_type": "code",
   "execution_count": 11,
   "metadata": {},
   "outputs": [
    {
     "name": "stdout",
     "output_type": "stream",
     "text": [
      "WARNING:tensorflow:From /home/matheusjerico/anaconda3/lib/python3.6/site-packages/tensorflow/python/ops/math_ops.py:3066: to_int32 (from tensorflow.python.ops.math_ops) is deprecated and will be removed in a future version.\n",
      "Instructions for updating:\n",
      "Use tf.cast instead.\n",
      "Epoch 1/50\n",
      "187/187 [==============================] - 78s 419ms/step - loss: 1.0832 - acc: 0.5080 - val_loss: 0.9230 - val_acc: 0.4860\n",
      "Epoch 2/50\n",
      "187/187 [==============================] - 71s 380ms/step - loss: 0.9153 - acc: 0.5328 - val_loss: 0.8865 - val_acc: 0.5280\n",
      "Epoch 3/50\n",
      "187/187 [==============================] - 67s 359ms/step - loss: 0.8987 - acc: 0.5307 - val_loss: 0.9061 - val_acc: 0.5180\n",
      "Epoch 4/50\n",
      "187/187 [==============================] - 68s 366ms/step - loss: 0.8847 - acc: 0.5434 - val_loss: 0.8708 - val_acc: 0.5800\n",
      "Epoch 5/50\n",
      "187/187 [==============================] - 67s 356ms/step - loss: 0.8749 - acc: 0.5635 - val_loss: 0.8695 - val_acc: 0.5660\n",
      "Epoch 6/50\n",
      "187/187 [==============================] - 69s 369ms/step - loss: 0.8708 - acc: 0.5628 - val_loss: 0.8582 - val_acc: 0.5820\n",
      "Epoch 7/50\n",
      "187/187 [==============================] - 68s 366ms/step - loss: 0.8618 - acc: 0.5582 - val_loss: 0.8642 - val_acc: 0.5500\n",
      "Epoch 8/50\n",
      "187/187 [==============================] - 65s 349ms/step - loss: 0.8666 - acc: 0.5388 - val_loss: 0.8524 - val_acc: 0.5880\n",
      "Epoch 9/50\n",
      "187/187 [==============================] - 66s 354ms/step - loss: 0.8570 - acc: 0.5608 - val_loss: 0.8439 - val_acc: 0.6160\n",
      "Epoch 10/50\n",
      "187/187 [==============================] - 66s 352ms/step - loss: 0.8569 - acc: 0.5481 - val_loss: 0.8493 - val_acc: 0.5420\n",
      "Epoch 11/50\n",
      "187/187 [==============================] - 64s 345ms/step - loss: 0.8521 - acc: 0.5448 - val_loss: 0.8656 - val_acc: 0.5220\n",
      "Epoch 12/50\n",
      "187/187 [==============================] - 67s 357ms/step - loss: 0.8504 - acc: 0.5428 - val_loss: 0.8656 - val_acc: 0.4980\n",
      "Epoch 13/50\n",
      "187/187 [==============================] - 66s 353ms/step - loss: 0.8426 - acc: 0.5702 - val_loss: 0.8267 - val_acc: 0.6260\n",
      "Epoch 14/50\n",
      "187/187 [==============================] - 65s 346ms/step - loss: 0.8344 - acc: 0.5709 - val_loss: 0.8349 - val_acc: 0.6180\n",
      "Epoch 15/50\n",
      "187/187 [==============================] - 65s 346ms/step - loss: 0.8223 - acc: 0.6083 - val_loss: 0.8097 - val_acc: 0.6100\n",
      "Epoch 16/50\n",
      "187/187 [==============================] - 64s 342ms/step - loss: 0.8235 - acc: 0.5916 - val_loss: 0.8173 - val_acc: 0.6140\n",
      "Epoch 17/50\n",
      "187/187 [==============================] - 66s 354ms/step - loss: 0.8094 - acc: 0.6177 - val_loss: 0.8404 - val_acc: 0.6020\n",
      "Epoch 18/50\n",
      "187/187 [==============================] - 71s 380ms/step - loss: 0.8018 - acc: 0.6317 - val_loss: 0.8774 - val_acc: 0.5840\n",
      "Epoch 19/50\n",
      "187/187 [==============================] - 69s 367ms/step - loss: 0.8026 - acc: 0.6150 - val_loss: 0.8496 - val_acc: 0.5780\n",
      "Epoch 20/50\n",
      "187/187 [==============================] - 66s 355ms/step - loss: 0.7964 - acc: 0.6370 - val_loss: 0.8186 - val_acc: 0.6140\n",
      "Epoch 21/50\n",
      "187/187 [==============================] - 66s 351ms/step - loss: 0.7847 - acc: 0.6424 - val_loss: 0.8021 - val_acc: 0.6240\n",
      "Epoch 22/50\n",
      "187/187 [==============================] - 67s 359ms/step - loss: 0.7945 - acc: 0.6223 - val_loss: 0.8213 - val_acc: 0.6220\n",
      "Epoch 23/50\n",
      "187/187 [==============================] - 70s 374ms/step - loss: 0.7876 - acc: 0.6344 - val_loss: 0.7912 - val_acc: 0.6500\n",
      "Epoch 24/50\n",
      "187/187 [==============================] - 70s 373ms/step - loss: 0.7864 - acc: 0.6377 - val_loss: 0.8211 - val_acc: 0.6100\n",
      "Epoch 25/50\n",
      "187/187 [==============================] - 64s 344ms/step - loss: 0.7772 - acc: 0.6457 - val_loss: 0.8057 - val_acc: 0.6220\n",
      "Epoch 26/50\n",
      "187/187 [==============================] - 64s 343ms/step - loss: 0.7810 - acc: 0.6230 - val_loss: 0.8217 - val_acc: 0.6100\n",
      "Epoch 27/50\n",
      "187/187 [==============================] - 64s 343ms/step - loss: 0.7827 - acc: 0.6324 - val_loss: 0.8368 - val_acc: 0.5960\n",
      "Epoch 28/50\n",
      "187/187 [==============================] - 64s 343ms/step - loss: 0.7679 - acc: 0.6457 - val_loss: 0.7819 - val_acc: 0.6400\n",
      "Epoch 29/50\n",
      "187/187 [==============================] - 64s 343ms/step - loss: 0.7659 - acc: 0.6504 - val_loss: 0.8925 - val_acc: 0.6160\n",
      "Epoch 30/50\n",
      "187/187 [==============================] - 64s 345ms/step - loss: 0.7746 - acc: 0.6350 - val_loss: 0.8044 - val_acc: 0.6100\n",
      "Epoch 31/50\n",
      "187/187 [==============================] - 71s 379ms/step - loss: 0.7772 - acc: 0.6384 - val_loss: 0.8160 - val_acc: 0.5960\n",
      "Epoch 32/50\n",
      "187/187 [==============================] - 67s 360ms/step - loss: 0.7559 - acc: 0.6604 - val_loss: 0.8033 - val_acc: 0.6280\n",
      "Epoch 33/50\n",
      "187/187 [==============================] - 66s 353ms/step - loss: 0.7535 - acc: 0.6651 - val_loss: 0.7590 - val_acc: 0.6640\n",
      "Epoch 34/50\n",
      "187/187 [==============================] - 63s 340ms/step - loss: 0.7472 - acc: 0.6818 - val_loss: 0.8194 - val_acc: 0.5940\n",
      "Epoch 35/50\n",
      "187/187 [==============================] - 63s 339ms/step - loss: 0.7666 - acc: 0.6404 - val_loss: 0.7771 - val_acc: 0.6300\n",
      "Epoch 36/50\n",
      "187/187 [==============================] - 63s 335ms/step - loss: 0.7477 - acc: 0.6604 - val_loss: 0.7966 - val_acc: 0.6380\n",
      "Epoch 37/50\n",
      "187/187 [==============================] - 63s 337ms/step - loss: 0.7522 - acc: 0.6598 - val_loss: 0.7973 - val_acc: 0.6220\n",
      "Epoch 38/50\n",
      "187/187 [==============================] - 64s 340ms/step - loss: 0.7351 - acc: 0.6785 - val_loss: 0.7621 - val_acc: 0.6440\n",
      "Epoch 39/50\n",
      "187/187 [==============================] - 63s 336ms/step - loss: 0.7545 - acc: 0.6504 - val_loss: 0.7589 - val_acc: 0.6460\n",
      "Epoch 40/50\n",
      "187/187 [==============================] - 63s 338ms/step - loss: 0.7350 - acc: 0.6771 - val_loss: 0.7600 - val_acc: 0.6440\n",
      "Epoch 41/50\n",
      "187/187 [==============================] - 63s 336ms/step - loss: 0.7451 - acc: 0.6731 - val_loss: 0.7608 - val_acc: 0.6460\n",
      "Epoch 42/50\n",
      "187/187 [==============================] - 63s 337ms/step - loss: 0.7211 - acc: 0.6912 - val_loss: 0.8180 - val_acc: 0.6020\n",
      "Epoch 43/50\n",
      "187/187 [==============================] - 63s 338ms/step - loss: 0.7305 - acc: 0.6798 - val_loss: 0.7587 - val_acc: 0.6440\n",
      "Epoch 44/50\n",
      "187/187 [==============================] - 64s 341ms/step - loss: 0.7330 - acc: 0.6791 - val_loss: 0.7333 - val_acc: 0.6680\n",
      "Epoch 45/50\n",
      "187/187 [==============================] - 63s 337ms/step - loss: 0.7266 - acc: 0.6758 - val_loss: 0.7739 - val_acc: 0.6360\n",
      "Epoch 46/50\n",
      "187/187 [==============================] - 63s 337ms/step - loss: 0.7069 - acc: 0.6985 - val_loss: 0.7895 - val_acc: 0.6660\n",
      "Epoch 47/50\n",
      "187/187 [==============================] - 63s 337ms/step - loss: 0.7196 - acc: 0.6791 - val_loss: 0.7709 - val_acc: 0.6520\n",
      "Epoch 48/50\n",
      "187/187 [==============================] - 63s 339ms/step - loss: 0.7212 - acc: 0.6865 - val_loss: 0.7568 - val_acc: 0.6740\n",
      "Epoch 49/50\n",
      "187/187 [==============================] - 63s 337ms/step - loss: 0.7053 - acc: 0.6952 - val_loss: 0.7706 - val_acc: 0.6840\n",
      "Epoch 50/50\n",
      "187/187 [==============================] - 64s 341ms/step - loss: 0.7096 - acc: 0.6872 - val_loss: 0.7459 - val_acc: 0.6800\n"
     ]
    }
   ],
   "source": [
    "# Treinando o modelo\n",
    "h = model.fit_generator(\n",
    "        aug.flow(x_train, y_train, batch_size = BS),\n",
    "        validation_data=(x_test, y_test),\n",
    "        steps_per_epoch=len(x_train) // BS,\n",
    "        epochs=EPOCHS)"
   ]
  },
  {
   "cell_type": "markdown",
   "metadata": {},
   "source": [
    "### Avaliação do modelo"
   ]
  },
  {
   "cell_type": "code",
   "execution_count": 12,
   "metadata": {},
   "outputs": [
    {
     "name": "stdout",
     "output_type": "stream",
     "text": [
      "              precision    recall  f1-score   support\n",
      "\n",
      "        cats       0.68      0.70      0.69       257\n",
      "        dogs       0.68      0.66      0.67       243\n",
      "\n",
      "    accuracy                           0.68       500\n",
      "   macro avg       0.68      0.68      0.68       500\n",
      "weighted avg       0.68      0.68      0.68       500\n",
      "\n"
     ]
    }
   ],
   "source": [
    "preds = model.predict(x_test, batch_size = BS)\n",
    "print(classification_report(y_test.argmax(axis=1), preds.argmax(axis=1), target_names = le.classes_))"
   ]
  },
  {
   "cell_type": "code",
   "execution_count": 13,
   "metadata": {},
   "outputs": [
    {
     "name": "stdout",
     "output_type": "stream",
     "text": [
      "500/500 [==============================] - 7s 13ms/step\n"
     ]
    }
   ],
   "source": [
    "scores = model.evaluate(x_test, y_test)"
   ]
  },
  {
   "cell_type": "code",
   "execution_count": 14,
   "metadata": {},
   "outputs": [
    {
     "data": {
      "text/plain": [
       "[0.7458597478866578, 0.6799999990463257]"
      ]
     },
     "execution_count": 14,
     "metadata": {},
     "output_type": "execute_result"
    }
   ],
   "source": [
    "scores"
   ]
  },
  {
   "cell_type": "markdown",
   "metadata": {},
   "source": [
    "### Plotando desempenho do modelo"
   ]
  },
  {
   "cell_type": "code",
   "execution_count": 15,
   "metadata": {},
   "outputs": [
    {
     "data": {
      "text/plain": [
       "<matplotlib.legend.Legend at 0x7f1c3dafa2b0>"
      ]
     },
     "execution_count": 15,
     "metadata": {},
     "output_type": "execute_result"
    },
    {
     "data": {
      "image/png": "[encoded data removed]",
      "text/plain": [
       "<Figure size 432x288 with 1 Axes>"
      ]
     },
     "metadata": {},
     "output_type": "display_data"
    }
   ],
   "source": [
    "N = np.arange(0, EPOCHS)\n",
    "plt.style.use('ggplot')\n",
    "plt.figure()\n",
    "plt.plot(N, h.history['loss'], label = 'loss')\n",
    "plt.plot(N, h.history['val_loss'], label ='val_loss')\n",
    "plt.plot(N, h.history['acc'], label = 'acc')\n",
    "plt.plot(N, h.history['val_acc'], label = 'val_acc')\n",
    "plt.title(\"Training Loss and Accuracy on Dataset\")\n",
    "plt.xlabel(\"EPOCHS #\")\n",
    "plt.ylabel(\"Loss/Accuracy\")\n",
    "plt.legend()\n"
   ]
  },
  {
   "cell_type": "markdown",
   "metadata": {},
   "source": [
    "## Gerando novas imagens a partir de imagens específicas"
   ]
  },
  {
   "cell_type": "code",
   "execution_count": 17,
   "metadata": {},
   "outputs": [],
   "source": [
    "# Library\n",
    "from keras.preprocessing.image import img_to_array, load_img"
   ]
  },
  {
   "cell_type": "code",
   "execution_count": 18,
   "metadata": {},
   "outputs": [],
   "source": [
    "# Carregando imagens e gerando novas imagens\n",
    "\n",
    "imagePaths = list(paths.list_images('/home/matheusjerico/Documentos/DSA/05. MachineLearning/Cap-12-IntroduçãoDeepLearning/kerasDataAugmentation/dogs_vs_cats_small/cats'))\n",
    "dirCats = '/home/matheusjerico/Documentos/DSA/05. MachineLearning/Cap-12-IntroduçãoDeepLearning/kerasDataAugmentation/generated_dataset/cats'\n",
    "dirDogs = '/home/matheusjerico/Documentos/DSA/05. MachineLearning/Cap-12-IntroduçãoDeepLearning/kerasDataAugmentation/generated_dataset/dogs'\n",
    "\n",
    "for imagePath in imagePaths:\n",
    "    total = 0\n",
    "    image = load_img(imagePath, target_size=(64,64))\n",
    "    image = img_to_array(image)\n",
    "    image = np.expand_dims(image, axis=0)\n",
    "    \n",
    "    imageGen = aug.flow(image, batch_size=1, save_to_dir=dirCats, save_prefix='cats', save_format='jpg')\n",
    "    \n",
    "    for image in imageGen:\n",
    "        total +=1\n",
    "        \n",
    "        if total == 10:\n",
    "            break"
   ]
  },
  {
   "cell_type": "code",
   "execution_count": 19,
   "metadata": {},
   "outputs": [],
   "source": [
    "imagePaths = list(paths.list_images('/home/matheusjerico/Documentos/DSA/05. MachineLearning/Cap-12-IntroduçãoDeepLearning/kerasDataAugmentation/dogs_vs_cats_small/dogs'))\n",
    "\n",
    "for imagePath in imagePaths:\n",
    "    total = 0\n",
    "    image = load_img(imagePath, target_size=(64,64))\n",
    "    image = img_to_array(image)\n",
    "    image = np.expand_dims(image, axis=0)\n",
    "    \n",
    "    imageGen = aug.flow(image, batch_size=1, save_to_dir=dirDogs, save_prefix='dogs', save_format='jpg')\n",
    "    \n",
    "    for image in imageGen:\n",
    "        total +=1\n",
    "        \n",
    "        if total == 10:\n",
    "            break"
   ]
  },
  {
   "cell_type": "markdown",
   "metadata": {},
   "source": [
    "### Importando imagens usando ImageDataGenerator\n"
   ]
  },
  {
   "cell_type": "code",
   "execution_count": 20,
   "metadata": {},
   "outputs": [],
   "source": [
    "dirtrain = '/home/matheusjerico/Documentos/DSA/05. MachineLearning/Cap-12-IntroduçãoDeepLearning/kerasDataAugmentation/generated_dataset'\n",
    "# Carregando imagens e labels\n",
    "\n",
    "data2 = []\n",
    "labels2 = []\n",
    "\n",
    "imagePaths2 = list(paths.list_images(dirtrain))\n",
    "\n",
    "for imagePath in imagePaths2:\n",
    "    label2 = imagePath.split(os.path.sep)[-2]\n",
    "    image2 = cv2.imread(imagePath)\n",
    "    image2 = cv2.resize(image2, (64, 64))\n",
    "    \n",
    "    labels2.append(label2)\n",
    "    data2.append(image2)"
   ]
  },
  {
   "cell_type": "code",
   "execution_count": 21,
   "metadata": {},
   "outputs": [],
   "source": [
    "dirval = '/home/matheusjerico/Documentos/DSA/05. MachineLearning/Cap-12-IntroduçãoDeepLearning/kerasDataAugmentation/dogs_vs_cats_small'\n",
    "\n",
    "imagePaths2 = list(paths.list_images(dirval))\n",
    "\n",
    "for imagePath in imagePaths2:\n",
    "    label2 = imagePath.split(os.path.sep)[-2]\n",
    "    image2 = cv2.imread(imagePath)\n",
    "    image2 = cv2.resize(image2, (64, 64))\n",
    "    \n",
    "    labels2.append(label2)\n",
    "    data2.append(image2)"
   ]
  },
  {
   "cell_type": "code",
   "execution_count": 22,
   "metadata": {},
   "outputs": [],
   "source": [
    "# Normalizando imagens\n",
    "# Convertento em um array com range de [0:1]\n",
    "\n",
    "data2 = np.array(data2, dtype= 'f') / 255.\n",
    "\n",
    "# Encoder nas labels\n",
    "\n",
    "le = LabelEncoder()\n",
    "labels2 = le.fit_transform(labels2)\n",
    "labels2 = np_utils.to_categorical(labels2)"
   ]
  },
  {
   "cell_type": "code",
   "execution_count": 23,
   "metadata": {},
   "outputs": [],
   "source": [
    "x_train, x_test, y_train, y_test = train_test_split(data2, labels2, test_size = 0.25, random_state=42)"
   ]
  },
  {
   "cell_type": "code",
   "execution_count": 24,
   "metadata": {},
   "outputs": [
    {
     "name": "stdout",
     "output_type": "stream",
     "text": [
      "(10984, 64, 64, 3)\n",
      "(10984, 2)\n",
      "------------\n",
      "(3662, 64, 64, 3)\n",
      "(3662, 2)\n"
     ]
    }
   ],
   "source": [
    "print(x_train.shape)\n",
    "print(y_train.shape)\n",
    "print(\"------------\")\n",
    "print(x_test.shape)\n",
    "print(y_test.shape)"
   ]
  },
  {
   "cell_type": "code",
   "execution_count": 25,
   "metadata": {},
   "outputs": [],
   "source": [
    "aug = ImageDataGenerator(\n",
    "        rotation_range=20,\n",
    "        zoom_range=0.15,\n",
    "        width_shift_range=0.2,\n",
    "        height_shift_range=0.2,\n",
    "        shear_range=0.12,\n",
    "        horizontal_flip=True,\n",
    "        fill_mode='nearest')"
   ]
  },
  {
   "cell_type": "markdown",
   "metadata": {},
   "source": [
    "### Compilando e Fit no modelo"
   ]
  },
  {
   "cell_type": "code",
   "execution_count": 26,
   "metadata": {},
   "outputs": [],
   "source": [
    "# Configurando parâmetros de otimização\n",
    "opt = SGD(lr=INIT_LR, momentum=0.9 , decay= INIT_LR / EPOCHS)\n",
    "\n",
    "# Criando modelo\n",
    "# def build(width, height, depth, classes, stages, filters, reg=0.0001, bnEps=2e-5, bnMom=0.9)\n",
    "model_2 = ResNet.build(64, 64, 3, 2, (2, 3, 4), (32, 64, 128, 256), reg = 0.0001)\n",
    "model_2.compile(loss='categorical_crossentropy', optimizer = opt, metrics = ['accuracy'])"
   ]
  },
  {
   "cell_type": "code",
   "execution_count": null,
   "metadata": {},
   "outputs": [
    {
     "name": "stdout",
     "output_type": "stream",
     "text": [
      "Epoch 1/50\n",
      "1373/1373 [==============================] - 506s 369ms/step - loss: 0.9212 - acc: 0.5531 - val_loss: 0.8292 - val_acc: 0.6374\n",
      "Epoch 2/50\n",
      "1373/1373 [==============================] - 468s 341ms/step - loss: 0.8312 - acc: 0.6166 - val_loss: 0.7825 - val_acc: 0.6611\n",
      "Epoch 3/50\n",
      "1373/1373 [==============================] - 549s 400ms/step - loss: 0.8035 - acc: 0.6379 - val_loss: 0.7579 - val_acc: 0.6843\n",
      "Epoch 4/50\n",
      "1373/1373 [==============================] - 618s 450ms/step - loss: 0.7816 - acc: 0.6476 - val_loss: 0.7414 - val_acc: 0.7021\n",
      "Epoch 5/50\n",
      "1373/1373 [==============================] - 480s 349ms/step - loss: 0.7624 - acc: 0.6672 - val_loss: 0.7382 - val_acc: 0.6778\n",
      "Epoch 6/50\n",
      "1373/1373 [==============================] - 479s 349ms/step - loss: 0.7494 - acc: 0.6733 - val_loss: 0.7264 - val_acc: 0.6879\n",
      "Epoch 7/50\n",
      "1373/1373 [==============================] - 484s 353ms/step - loss: 0.7389 - acc: 0.6767 - val_loss: 0.6885 - val_acc: 0.7190\n",
      "Epoch 8/50\n",
      "1373/1373 [==============================] - 567s 413ms/step - loss: 0.7229 - acc: 0.6911 - val_loss: 0.6843 - val_acc: 0.7152\n",
      "Epoch 9/50\n",
      "1373/1373 [==============================] - 578s 421ms/step - loss: 0.7127 - acc: 0.6942 - val_loss: 0.6705 - val_acc: 0.7212\n",
      "Epoch 10/50\n",
      "1373/1373 [==============================] - 479s 349ms/step - loss: 0.7076 - acc: 0.6947 - val_loss: 0.6652 - val_acc: 0.7239\n",
      "Epoch 11/50\n",
      "1373/1373 [==============================] - 480s 350ms/step - loss: 0.6913 - acc: 0.7086 - val_loss: 0.6603 - val_acc: 0.7269\n",
      "Epoch 12/50\n",
      "1373/1373 [==============================] - 480s 349ms/step - loss: 0.6868 - acc: 0.7118 - val_loss: 0.6501 - val_acc: 0.7354\n",
      "Epoch 13/50\n",
      "1373/1373 [==============================] - 472s 344ms/step - loss: 0.6742 - acc: 0.7160 - val_loss: 0.6212 - val_acc: 0.7602\n",
      "Epoch 14/50\n",
      "1373/1373 [==============================] - 477s 347ms/step - loss: 0.6740 - acc: 0.7136 - val_loss: 0.6149 - val_acc: 0.7567\n",
      "Epoch 15/50\n",
      "1373/1373 [==============================] - 478s 348ms/step - loss: 0.6623 - acc: 0.7278 - val_loss: 0.6080 - val_acc: 0.7611\n",
      "Epoch 16/50\n",
      "1373/1373 [==============================] - 553s 403ms/step - loss: 0.6542 - acc: 0.7261 - val_loss: 0.6191 - val_acc: 0.7529\n",
      "Epoch 17/50\n",
      "1373/1373 [==============================] - 532s 388ms/step - loss: 0.6404 - acc: 0.7393 - val_loss: 0.5901 - val_acc: 0.7717\n",
      "Epoch 18/50\n",
      "1373/1373 [==============================] - 525s 382ms/step - loss: 0.6368 - acc: 0.7410 - val_loss: 0.5831 - val_acc: 0.7731\n",
      "Epoch 19/50\n",
      "1373/1373 [==============================] - 525s 383ms/step - loss: 0.6277 - acc: 0.7494 - val_loss: 0.5674 - val_acc: 0.7835\n",
      "Epoch 20/50\n",
      "1373/1373 [==============================] - 524s 382ms/step - loss: 0.6169 - acc: 0.7560 - val_loss: 0.5622 - val_acc: 0.7873\n",
      "Epoch 21/50\n",
      "1373/1373 [==============================] - 520s 379ms/step - loss: 0.6177 - acc: 0.7532 - val_loss: 0.5626 - val_acc: 0.7889\n",
      "Epoch 22/50\n",
      "1373/1373 [==============================] - 586s 426ms/step - loss: 0.6080 - acc: 0.7581 - val_loss: 0.5967 - val_acc: 0.7662\n",
      "Epoch 23/50\n",
      "1373/1373 [==============================] - 542s 395ms/step - loss: 0.5973 - acc: 0.7659 - val_loss: 0.5411 - val_acc: 0.8034\n",
      "Epoch 24/50\n",
      "1373/1373 [==============================] - 512s 373ms/step - loss: 0.5986 - acc: 0.7688 - val_loss: 0.5635 - val_acc: 0.7840\n",
      "Epoch 25/50\n",
      "1373/1373 [==============================] - 542s 395ms/step - loss: 0.5848 - acc: 0.7704 - val_loss: 0.5208 - val_acc: 0.8154\n",
      "Epoch 26/50\n",
      "1373/1373 [==============================] - 510s 372ms/step - loss: 0.5770 - acc: 0.7753 - val_loss: 0.5291 - val_acc: 0.8061\n",
      "Epoch 27/50\n",
      "1373/1373 [==============================] - 536s 390ms/step - loss: 0.5704 - acc: 0.7819 - val_loss: 0.5098 - val_acc: 0.8206\n",
      "Epoch 28/50\n",
      "1373/1373 [==============================] - 546s 398ms/step - loss: 0.5667 - acc: 0.7882 - val_loss: 0.4908 - val_acc: 0.8326\n",
      "Epoch 29/50\n",
      "1373/1373 [==============================] - 521s 380ms/step - loss: 0.5558 - acc: 0.7947 - val_loss: 0.5152 - val_acc: 0.8091\n",
      "Epoch 30/50\n",
      "1373/1373 [==============================] - 517s 377ms/step - loss: 0.5529 - acc: 0.7924 - val_loss: 0.4843 - val_acc: 0.8326\n",
      "Epoch 31/50\n",
      " 874/1373 [==================>...........] - ETA: 2:46 - loss: 0.5533 - acc: 0.7938"
     ]
    }
   ],
   "source": [
    "# Trainando modelo\n",
    "# Treinando o modelo\n",
    "h2 = model_2.fit_generator(\n",
    "        aug.flow(x_train, y_train, batch_size = BS),\n",
    "        validation_data=(x_test, y_test),\n",
    "        steps_per_epoch=len(x_train) // BS,\n",
    "        epochs=EPOCHS)"
   ]
  },
  {
   "cell_type": "code",
   "execution_count": null,
   "metadata": {},
   "outputs": [],
   "source": [
    "preds = model_2.predict_generator(dataset_val, steps= len(dataset_val))\n"
   ]
  },
  {
   "cell_type": "code",
   "execution_count": null,
   "metadata": {},
   "outputs": [],
   "source": [
    "preds.shape"
   ]
  },
  {
   "cell_type": "markdown",
   "metadata": {},
   "source": [
    "### Avaliando o modelo"
   ]
  },
  {
   "cell_type": "code",
   "execution_count": null,
   "metadata": {},
   "outputs": [],
   "source": [
    "preds = model.predict(x_test, batch_size = BS)\n",
    "print(classification_report(y_test.argmax(axis=1), preds.argmax(axis=1), target_names = le.classes_))"
   ]
  },
  {
   "cell_type": "code",
   "execution_count": null,
   "metadata": {},
   "outputs": [],
   "source": [
    "scores = model.evaluate(x_test, y_test)"
   ]
  },
  {
   "cell_type": "code",
   "execution_count": null,
   "metadata": {},
   "outputs": [],
   "source": [
    "scores"
   ]
  },
  {
   "cell_type": "markdown",
   "metadata": {},
   "source": [
    "### Plotando o desempenho do modelo"
   ]
  },
  {
   "cell_type": "code",
   "execution_count": null,
   "metadata": {},
   "outputs": [],
   "source": [
    "N = np.arange(0, EPOCHS)\n",
    "plt.style.use('ggplot')\n",
    "plt.figure()\n",
    "plt.plot(N, h2.history['loss'], label = 'loss')\n",
    "plt.plot(N, h2.history['val_loss'], label ='val_loss')\n",
    "plt.plot(N, h2.history['acc'], label = 'acc')\n",
    "plt.plot(N, h2.history['val_acc'], label = 'val_acc')\n",
    "plt.title(\"Training Loss and Accuracy on Dataset\")\n",
    "plt.xlabel(\"EPOCHS #\")\n",
    "plt.ylabel(\"Loss/Accuracy\")\n",
    "plt.legend()"
   ]
  },
  {
   "cell_type": "code",
   "execution_count": null,
   "metadata": {},
   "outputs": [],
   "source": []
  }
 ],
 "metadata": {
  "kernelspec": {
   "display_name": "Python 3",
   "language": "python",
   "name": "python3"
  },
  "language_info": {
   "codemirror_mode": {
    "name": "ipython",
    "version": 3
   },
   "file_extension": ".py",
   "mimetype": "text/x-python",
   "name": "python",
   "nbconvert_exporter": "python",
   "pygments_lexer": "ipython3",
   "version": "3.6.7"
  }
 },
 "nbformat": 4,
 "nbformat_minor": 2
}
