{
 "cells": [
  {
   "cell_type": "markdown",
   "metadata": {},
   "source": [
    "# Gato e Cachorro com VGG16"
   ]
  },
  {
   "cell_type": "code",
   "execution_count": 1,
   "metadata": {},
   "outputs": [
    {
     "name": "stderr",
     "output_type": "stream",
     "text": [
      "Using TensorFlow backend.\n"
     ]
    }
   ],
   "source": [
    "# import the necessary packages\n",
    "from keras.preprocessing.image import ImageDataGenerator\n",
    "from keras.layers.pooling import AveragePooling2D\n",
    "from keras.applications import VGG16\n",
    "from keras.layers.core import Dropout\n",
    "from keras.layers.core import Flatten\n",
    "from keras.layers.core import Dense\n",
    "from keras.layers import Input\n",
    "from keras.models import Model\n",
    "from keras.optimizers import Adam\n",
    "from keras.utils import np_utils\n",
    "from sklearn.preprocessing import LabelBinarizer\n",
    "from sklearn.model_selection import train_test_split\n",
    "from sklearn.metrics import classification_report\n",
    "from imutils import paths\n",
    "import matplotlib.pyplot as plt\n",
    "import numpy as np\n",
    "import argparse\n",
    "import cv2\n",
    "import os"
   ]
  },
  {
   "cell_type": "markdown",
   "metadata": {},
   "source": [
    "### Importando imagens"
   ]
  },
  {
   "cell_type": "code",
   "execution_count": 2,
   "metadata": {},
   "outputs": [],
   "source": [
    "dirr = '/home/matheusjerico/Documentos/DSA/05. MachineLearning/Cap-12-IntroduçãoDeepLearning/kerasDataAugmentation/dogs_vs_cats_small'\n",
    "\n",
    "imagePaths = list(paths.list_images(dirr))\n",
    "data = []\n",
    "labels = []\n",
    " \n",
    "# loop over the image paths\n",
    "for imagePath in imagePaths:\n",
    "    # extract the class label from the filename\n",
    "    label = imagePath.split(os.path.sep)[-2]\n",
    " \n",
    "    # load the image, swap color channels, and resize it to be a fixed\n",
    "    # 128x128 pixels while ignoring aspect ratio\n",
    "    image = cv2.imread(imagePath)\n",
    "    image = cv2.cvtColor(image, cv2.COLOR_BGR2RGB)\n",
    "    image = cv2.resize(image, (128, 128))\n",
    " \n",
    "    # update the data and labels lists, respectively\n",
    "    data.append(image)\n",
    "    labels.append(label)"
   ]
  },
  {
   "cell_type": "markdown",
   "metadata": {},
   "source": [
    "### Normalizando, One Hot Encoder, Separando os dados "
   ]
  },
  {
   "cell_type": "code",
   "execution_count": 3,
   "metadata": {},
   "outputs": [],
   "source": [
    "# convert the data and labels to NumPy arrays\n",
    "data = np.array(data)\n",
    "labels = np.array(labels)\n",
    " \n",
    "# perform one-hot encoding on the labels\n",
    "lb = LabelBinarizer()\n",
    "labels = lb.fit_transform(labels)\n",
    "labels = np_utils.to_categorical(labels)\n",
    " \n",
    "# partition the data into training and testing splits using 75% of\n",
    "# the data for training and the remaining 25% for testing\n",
    "(trainX, testX, trainY, testY) = train_test_split(data, labels, test_size=0.25, stratify=labels, random_state=42)"
   ]
  },
  {
   "cell_type": "markdown",
   "metadata": {},
   "source": [
    "### Image data generator"
   ]
  },
  {
   "cell_type": "code",
   "execution_count": 4,
   "metadata": {},
   "outputs": [],
   "source": [
    "# initialize the training data augmentation object\n",
    "trainAug = ImageDataGenerator(\n",
    "    rotation_range=30,\n",
    "    zoom_range=0.15,\n",
    "    width_shift_range=0.2,\n",
    "    height_shift_range=0.2,\n",
    "    shear_range=0.15,\n",
    "    horizontal_flip=True,\n",
    "    fill_mode=\"nearest\")\n",
    " \n",
    "# initialize the validation/testing data augmentation object (which\n",
    "# we'll be adding mean subtraction to)\n",
    "valAug = ImageDataGenerator()\n",
    " \n",
    "# define the ImageNet mean subtraction (in RGB order) and set the\n",
    "# the mean subtraction value for each of the data augmentation\n",
    "# objects\n",
    "mean = np.array([123.68, 116.779, 103.939], dtype=\"float32\")\n",
    "trainAug.mean = mean\n",
    "valAug.mean = mean"
   ]
  },
  {
   "cell_type": "markdown",
   "metadata": {},
   "source": [
    "### Model VGG16"
   ]
  },
  {
   "cell_type": "code",
   "execution_count": 5,
   "metadata": {},
   "outputs": [
    {
     "name": "stdout",
     "output_type": "stream",
     "text": [
      "WARNING:tensorflow:From /home/matheusjerico/anaconda3/lib/python3.6/site-packages/tensorflow/python/framework/op_def_library.py:263: colocate_with (from tensorflow.python.framework.ops) is deprecated and will be removed in a future version.\n",
      "Instructions for updating:\n",
      "Colocations handled automatically by placer.\n",
      "[INFO] summary for base model...\n",
      "_________________________________________________________________\n",
      "Layer (type)                 Output Shape              Param #   \n",
      "=================================================================\n",
      "input_1 (InputLayer)         (None, 128, 128, 3)       0         \n",
      "_________________________________________________________________\n",
      "block1_conv1 (Conv2D)        (None, 128, 128, 64)      1792      \n",
      "_________________________________________________________________\n",
      "block1_conv2 (Conv2D)        (None, 128, 128, 64)      36928     \n",
      "_________________________________________________________________\n",
      "block1_pool (MaxPooling2D)   (None, 64, 64, 64)        0         \n",
      "_________________________________________________________________\n",
      "block2_conv1 (Conv2D)        (None, 64, 64, 128)       73856     \n",
      "_________________________________________________________________\n",
      "block2_conv2 (Conv2D)        (None, 64, 64, 128)       147584    \n",
      "_________________________________________________________________\n",
      "block2_pool (MaxPooling2D)   (None, 32, 32, 128)       0         \n",
      "_________________________________________________________________\n",
      "block3_conv1 (Conv2D)        (None, 32, 32, 256)       295168    \n",
      "_________________________________________________________________\n",
      "block3_conv2 (Conv2D)        (None, 32, 32, 256)       590080    \n",
      "_________________________________________________________________\n",
      "block3_conv3 (Conv2D)        (None, 32, 32, 256)       590080    \n",
      "_________________________________________________________________\n",
      "block3_pool (MaxPooling2D)   (None, 16, 16, 256)       0         \n",
      "_________________________________________________________________\n",
      "block4_conv1 (Conv2D)        (None, 16, 16, 512)       1180160   \n",
      "_________________________________________________________________\n",
      "block4_conv2 (Conv2D)        (None, 16, 16, 512)       2359808   \n",
      "_________________________________________________________________\n",
      "block4_conv3 (Conv2D)        (None, 16, 16, 512)       2359808   \n",
      "_________________________________________________________________\n",
      "block4_pool (MaxPooling2D)   (None, 8, 8, 512)         0         \n",
      "_________________________________________________________________\n",
      "block5_conv1 (Conv2D)        (None, 8, 8, 512)         2359808   \n",
      "_________________________________________________________________\n",
      "block5_conv2 (Conv2D)        (None, 8, 8, 512)         2359808   \n",
      "_________________________________________________________________\n",
      "block5_conv3 (Conv2D)        (None, 8, 8, 512)         2359808   \n",
      "_________________________________________________________________\n",
      "block5_pool (MaxPooling2D)   (None, 4, 4, 512)         0         \n",
      "=================================================================\n",
      "Total params: 14,714,688\n",
      "Trainable params: 14,714,688\n",
      "Non-trainable params: 0\n",
      "_________________________________________________________________\n",
      "None\n"
     ]
    }
   ],
   "source": [
    "# load VGG16, ensuring the head FC layer sets are left off, while at\n",
    "# the same time adjusting the size of the input image tensor to the\n",
    "# network\n",
    "# include_top = False -> tira a cabeça do modelo\n",
    "baseModel = VGG16(weights=\"imagenet\", include_top=False, input_tensor=Input(shape=(128, 128, 3)))\n",
    " \n",
    "# show a summary of the base model\n",
    "print(\"[INFO] summary for base model...\")\n",
    "print(baseModel.summary())"
   ]
  },
  {
   "cell_type": "code",
   "execution_count": 6,
   "metadata": {},
   "outputs": [],
   "source": [
    "### Criando a saida do modelo VGG16"
   ]
  },
  {
   "cell_type": "code",
   "execution_count": 7,
   "metadata": {},
   "outputs": [
    {
     "name": "stdout",
     "output_type": "stream",
     "text": [
      "WARNING:tensorflow:From /home/matheusjerico/anaconda3/lib/python3.6/site-packages/keras/backend/tensorflow_backend.py:3445: calling dropout (from tensorflow.python.ops.nn_ops) with keep_prob is deprecated and will be removed in a future version.\n",
      "Instructions for updating:\n",
      "Please use `rate` instead of `keep_prob`. Rate should be set to `rate = 1 - keep_prob`.\n"
     ]
    }
   ],
   "source": [
    "# construct the head of the model that will be placed on top of the\n",
    "# the base model\n",
    "headModel = baseModel.output\n",
    "headModel = AveragePooling2D(pool_size=(4, 4))(headModel)\n",
    "headModel = Flatten(name=\"flatten\")(headModel)\n",
    "headModel = Dense(128, activation=\"relu\")(headModel)\n",
    "headModel = Dropout(0.5)(headModel)\n",
    "headModel = Dense(2, activation=\"softmax\")(headModel)\n",
    " \n",
    "# place the head FC model on top of the base model (this will become\n",
    "# the actual model we will train)\n",
    "model = Model(inputs=baseModel.input, outputs=headModel)\n",
    " \n",
    "# loop over all layers in the base model and freeze them so they will\n",
    "# *not* be updated during the first training process\n",
    "for layer in baseModel.layers:\n",
    "    layer.trainable = False"
   ]
  },
  {
   "cell_type": "markdown",
   "metadata": {},
   "source": [
    "### Fit e Compile no modelo"
   ]
  },
  {
   "cell_type": "code",
   "execution_count": 8,
   "metadata": {},
   "outputs": [
    {
     "name": "stdout",
     "output_type": "stream",
     "text": [
      "[INFO] compiling model...\n",
      "[INFO] training head...\n",
      "WARNING:tensorflow:From /home/matheusjerico/anaconda3/lib/python3.6/site-packages/tensorflow/python/ops/math_ops.py:3066: to_int32 (from tensorflow.python.ops.math_ops) is deprecated and will be removed in a future version.\n",
      "Instructions for updating:\n",
      "Use tf.cast instead.\n",
      "Epoch 1/25\n",
      "46/46 [==============================] - 410s 9s/step - loss: 4.6867 - acc: 0.5312 - val_loss: 2.9326 - val_acc: 0.6208\n",
      "Epoch 2/25\n",
      "46/46 [==============================] - 417s 9s/step - loss: 3.5006 - acc: 0.6243 - val_loss: 1.7453 - val_acc: 0.7543\n",
      "Epoch 3/25\n",
      "46/46 [==============================] - 418s 9s/step - loss: 2.7854 - acc: 0.6752 - val_loss: 1.1749 - val_acc: 0.8077\n",
      "Epoch 4/25\n",
      "46/46 [==============================] - 413s 9s/step - loss: 2.3841 - acc: 0.7147 - val_loss: 0.8226 - val_acc: 0.8590\n",
      "Epoch 5/25\n",
      "46/46 [==============================] - 404s 9s/step - loss: 1.7698 - acc: 0.7706 - val_loss: 0.8861 - val_acc: 0.8419\n",
      "Epoch 6/25\n",
      "46/46 [==============================] - 401s 9s/step - loss: 1.7123 - acc: 0.7774 - val_loss: 0.7169 - val_acc: 0.8675\n",
      "Epoch 7/25\n",
      "46/46 [==============================] - 422s 9s/step - loss: 1.4601 - acc: 0.7903 - val_loss: 0.7135 - val_acc: 0.8718\n",
      "Epoch 8/25\n",
      "46/46 [==============================] - 401s 9s/step - loss: 1.4836 - acc: 0.7860 - val_loss: 0.6391 - val_acc: 0.8868\n",
      "Epoch 9/25\n",
      "46/46 [==============================] - 412s 9s/step - loss: 1.2652 - acc: 0.8041 - val_loss: 0.6280 - val_acc: 0.8974\n",
      "Epoch 10/25\n",
      "46/46 [==============================] - 407s 9s/step - loss: 1.0847 - acc: 0.8167 - val_loss: 0.6765 - val_acc: 0.8846\n",
      "Epoch 11/25\n",
      "46/46 [==============================] - 391s 9s/step - loss: 1.1475 - acc: 0.8058 - val_loss: 0.4604 - val_acc: 0.9103\n",
      "Epoch 12/25\n",
      "46/46 [==============================] - 392s 9s/step - loss: 1.0178 - acc: 0.8169 - val_loss: 0.6084 - val_acc: 0.8889\n",
      "Epoch 13/25\n",
      "46/46 [==============================] - 390s 8s/step - loss: 0.9230 - acc: 0.8254 - val_loss: 0.5012 - val_acc: 0.9038\n",
      "Epoch 14/25\n",
      "46/46 [==============================] - 391s 9s/step - loss: 0.9704 - acc: 0.8324 - val_loss: 0.4560 - val_acc: 0.9124\n",
      "Epoch 15/25\n",
      "46/46 [==============================] - 390s 8s/step - loss: 0.8771 - acc: 0.8316 - val_loss: 0.3791 - val_acc: 0.9252\n",
      "Epoch 16/25\n",
      "46/46 [==============================] - 391s 8s/step - loss: 0.7590 - acc: 0.8440 - val_loss: 0.4271 - val_acc: 0.9060\n",
      "Epoch 17/25\n",
      "46/46 [==============================] - 393s 9s/step - loss: 0.7520 - acc: 0.8503 - val_loss: 0.4114 - val_acc: 0.9104\n",
      "Epoch 18/25\n",
      "46/46 [==============================] - 391s 8s/step - loss: 0.6429 - acc: 0.8516 - val_loss: 0.3781 - val_acc: 0.9060\n",
      "Epoch 19/25\n",
      "46/46 [==============================] - 390s 8s/step - loss: 0.7649 - acc: 0.8321 - val_loss: 0.3827 - val_acc: 0.9103\n",
      "Epoch 20/25\n",
      "46/46 [==============================] - 390s 8s/step - loss: 0.5953 - acc: 0.8459 - val_loss: 0.3213 - val_acc: 0.9167\n",
      "Epoch 21/25\n",
      "46/46 [==============================] - 390s 8s/step - loss: 0.5331 - acc: 0.8643 - val_loss: 0.3263 - val_acc: 0.9124\n",
      "Epoch 22/25\n",
      "46/46 [==============================] - 390s 8s/step - loss: 0.5445 - acc: 0.8337 - val_loss: 0.3421 - val_acc: 0.9103\n",
      "Epoch 23/25\n",
      "46/46 [==============================] - 390s 8s/step - loss: 0.5451 - acc: 0.8564 - val_loss: 0.3158 - val_acc: 0.8974\n",
      "Epoch 24/25\n",
      "46/46 [==============================] - 390s 8s/step - loss: 0.5015 - acc: 0.8486 - val_loss: 0.2677 - val_acc: 0.9081\n",
      "Epoch 25/25\n",
      "46/46 [==============================] - 390s 8s/step - loss: 0.4392 - acc: 0.8555 - val_loss: 0.3310 - val_acc: 0.9017\n"
     ]
    }
   ],
   "source": [
    "# compile our model (this needs to be done after our setting our\n",
    "# layers to being non-trainable)\n",
    "print(\"[INFO] compiling model...\")\n",
    "opt = Adam(lr=1e-4)\n",
    "model.compile(loss=\"binary_crossentropy\", optimizer=opt,\n",
    "    metrics=[\"accuracy\"])\n",
    " \n",
    "# train the head of the network for a few epochs (all other layers\n",
    "# are frozen) -- this will allow the new FC layers to start to become\n",
    "# initialized with actual \"learned\" values versus pure random\n",
    "print(\"[INFO] training head...\")\n",
    "H = model.fit_generator(\n",
    "    trainAug.flow(trainX, trainY, batch_size=32),\n",
    "    steps_per_epoch=len(trainX) // 32,\n",
    "    validation_data=valAug.flow(testX, testY),\n",
    "    validation_steps=len(testX) // 32,\n",
    "    epochs=25)"
   ]
  },
  {
   "cell_type": "markdown",
   "metadata": {},
   "source": [
    "### Validação do modelo"
   ]
  },
  {
   "cell_type": "code",
   "execution_count": 11,
   "metadata": {},
   "outputs": [
    {
     "name": "stdout",
     "output_type": "stream",
     "text": [
      "[INFO] evaluating network...\n",
      "              precision    recall  f1-score   support\n",
      "\n",
      "        cats       0.92      0.89      0.90       250\n",
      "        dogs       0.89      0.92      0.91       250\n",
      "\n",
      "    accuracy                           0.90       500\n",
      "   macro avg       0.90      0.90      0.90       500\n",
      "weighted avg       0.90      0.90      0.90       500\n",
      "\n"
     ]
    },
    {
     "data": {
      "text/plain": [
       "<matplotlib.legend.Legend at 0x7f90557337b8>"
      ]
     },
     "execution_count": 11,
     "metadata": {},
     "output_type": "execute_result"
    },
    {
     "data": {
      "image/png": "[encoded data removed]",
      "text/plain": [
       "<Figure size 432x288 with 1 Axes>"
      ]
     },
     "metadata": {},
     "output_type": "display_data"
    }
   ],
   "source": [
    "# evaluate the network\n",
    "print(\"[INFO] evaluating network...\")\n",
    "%matplotlib inline\n",
    "\n",
    "predictions = model.predict(testX, batch_size=32)\n",
    "print(classification_report(testY.argmax(axis=1),\n",
    "    predictions.argmax(axis=1), target_names=lb.classes_))\n",
    " \n",
    "# plot the training loss and accuracy\n",
    "N = 25\n",
    "plt.style.use(\"ggplot\")\n",
    "plt.figure()\n",
    "plt.plot(np.arange(0, N), H.history[\"loss\"], label=\"train_loss\")\n",
    "plt.plot(np.arange(0, N), H.history[\"val_loss\"], label=\"val_loss\")\n",
    "plt.plot(np.arange(0, N), H.history[\"acc\"], label=\"train_acc\")\n",
    "plt.plot(np.arange(0, N), H.history[\"val_acc\"], label=\"val_acc\")\n",
    "plt.title(\"Training Loss and Accuracy on Dataset\")\n",
    "plt.xlabel(\"Epoch #\")\n",
    "plt.ylabel(\"Loss/Accuracy\")\n",
    "plt.legend(loc=\"lower left\")"
   ]
  }
 ],
 "metadata": {
  "kernelspec": {
   "display_name": "Python 3",
   "language": "python",
   "name": "python3"
  },
  "language_info": {
   "codemirror_mode": {
    "name": "ipython",
    "version": 3
   },
   "file_extension": ".py",
   "mimetype": "text/x-python",
   "name": "python",
   "nbconvert_exporter": "python",
   "pygments_lexer": "ipython3",
   "version": "3.6.7"
  }
 },
 "nbformat": 4,
 "nbformat_minor": 2
}
