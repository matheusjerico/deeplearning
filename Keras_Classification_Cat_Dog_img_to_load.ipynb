{
 "cells": [
  {
   "cell_type": "code",
   "execution_count": 1,
   "metadata": {},
   "outputs": [
    {
     "name": "stderr",
     "output_type": "stream",
     "text": [
      "Using TensorFlow backend.\n"
     ]
    }
   ],
   "source": [
    "import pandas as pd\n",
    "import numpy as np\n",
    "import matplotlib.pyplot as plt\n",
    "from sklearn.model_selection import train_test_split\n",
    "from keras.layers import Dense, Conv2D, MaxPooling2D, Dropout, BatchNormalization, Flatten, Activation\n",
    "from keras.models import Sequential\n",
    "from keras.preprocessing.image import ImageDataGenerator\n",
    "from keras.preprocessing.image import load_img, img_to_array\n",
    "from imutils import paths\n",
    "import random"
   ]
  },
  {
   "cell_type": "code",
   "execution_count": 2,
   "metadata": {},
   "outputs": [],
   "source": [
    "path = '/home/matheusjerico/Documentos/DSA/05. MachineLearning/Cap-12-IntroduçãoDeepLearning/dataset_udemy/dataset_unico'\n"
   ]
  },
  {
   "cell_type": "code",
   "execution_count": 3,
   "metadata": {},
   "outputs": [],
   "source": [
    "data = []\n",
    "labels = []\n",
    "inputPaths = sorted(list(paths.list_files(path)))\n",
    "random.seed(43)\n",
    "random.shuffle(inputPaths),\n",
    "for inputPath in inputPaths:\n",
    "    image = load_img(inputPath, target_size=(64,64))\n",
    "    image = img_to_array(image)\n",
    "    data.append(image)\n",
    "\n",
    "    label = inputPath.split('/')[-2]\n",
    "    labels.append(label)"
   ]
  },
  {
   "cell_type": "code",
   "execution_count": 4,
   "metadata": {},
   "outputs": [
    {
     "name": "stdout",
     "output_type": "stream",
     "text": [
      "5000\n",
      "5000\n"
     ]
    }
   ],
   "source": [
    "print(len(data))\n",
    "print(len(labels))"
   ]
  },
  {
   "cell_type": "code",
   "execution_count": 5,
   "metadata": {},
   "outputs": [],
   "source": [
    "data = np.array(data, dtype='f') / 255.\n",
    "labels = np.array(labels)"
   ]
  },
  {
   "cell_type": "code",
   "execution_count": 6,
   "metadata": {},
   "outputs": [
    {
     "name": "stdout",
     "output_type": "stream",
     "text": [
      "(5000, 64, 64, 3)\n",
      "['gato' 'gato' 'gato' 'gato' 'gato' 'cachorro' 'cachorro' 'gato'\n",
      " 'cachorro' 'cachorro']\n"
     ]
    }
   ],
   "source": [
    "print(data.shape)\n",
    "print(labels[:10])"
   ]
  },
  {
   "cell_type": "code",
   "execution_count": 7,
   "metadata": {},
   "outputs": [
    {
     "name": "stdout",
     "output_type": "stream",
     "text": [
      "(3750, 64, 64, 3)\n",
      "(1250, 64, 64, 3)\n",
      "(3750,)\n",
      "(1250,)\n"
     ]
    }
   ],
   "source": [
    "x_train, x_test, y_train, y_test = train_test_split(data, labels, test_size = 0.25, random_state = 42)\n",
    "\n",
    "print(x_train.shape)\n",
    "print(x_test.shape)\n",
    "print(y_train.shape)\n",
    "print(y_test.shape)"
   ]
  },
  {
   "cell_type": "code",
   "execution_count": 8,
   "metadata": {},
   "outputs": [
    {
     "data": {
      "text/plain": [
       "'cachorro'"
      ]
     },
     "execution_count": 8,
     "metadata": {},
     "output_type": "execute_result"
    }
   ],
   "source": [
    "y_train[1]"
   ]
  },
  {
   "cell_type": "markdown",
   "metadata": {},
   "source": [
    " # Normalizando labels\n"
   ]
  },
  {
   "cell_type": "code",
   "execution_count": 9,
   "metadata": {},
   "outputs": [],
   "source": [
    "from sklearn.preprocessing import LabelBinarizer"
   ]
  },
  {
   "cell_type": "code",
   "execution_count": 10,
   "metadata": {},
   "outputs": [],
   "source": [
    "lb = LabelBinarizer()\n",
    "y_train = lb.fit_transform(y_train)\n",
    "y_test = lb.transform(y_test)"
   ]
  },
  {
   "cell_type": "code",
   "execution_count": 11,
   "metadata": {},
   "outputs": [
    {
     "data": {
      "text/plain": [
       "array([[1],\n",
       "       [0],\n",
       "       [0],\n",
       "       [0],\n",
       "       [0]])"
      ]
     },
     "execution_count": 11,
     "metadata": {},
     "output_type": "execute_result"
    }
   ],
   "source": [
    "y_train[:5]"
   ]
  },
  {
   "cell_type": "code",
   "execution_count": 12,
   "metadata": {},
   "outputs": [
    {
     "data": {
      "text/plain": [
       "array([[[[0.19215687, 0.13333334, 0.14509805],\n",
       "         [0.13725491, 0.09019608, 0.09803922],\n",
       "         [0.2784314 , 0.23921569, 0.24313726],\n",
       "         ...,\n",
       "         [0.70980394, 0.14117648, 0.37254903],\n",
       "         [0.85882354, 0.05098039, 0.33333334],\n",
       "         [0.9490196 , 0.04313726, 0.34901962]],\n",
       "\n",
       "        [[0.21960784, 0.16078432, 0.17254902],\n",
       "         [0.2627451 , 0.21568628, 0.22352941],\n",
       "         [0.17254902, 0.13333334, 0.13725491],\n",
       "         ...,\n",
       "         [0.24313726, 0.23921569, 0.36078432],\n",
       "         [0.16078432, 0.3019608 , 0.35686275],\n",
       "         [0.1882353 , 0.25490198, 0.3254902 ]],\n",
       "\n",
       "        [[0.27450982, 0.21568628, 0.22745098],\n",
       "         [0.19607843, 0.14901961, 0.15686275],\n",
       "         [0.18431373, 0.14509805, 0.14901961],\n",
       "         ...,\n",
       "         [0.07058824, 0.28627452, 0.40392157],\n",
       "         [0.21960784, 0.23137255, 0.4       ],\n",
       "         [0.20392157, 0.16862746, 0.3529412 ]],\n",
       "\n",
       "        ...,\n",
       "\n",
       "        [[0.21176471, 0.16862746, 0.15294118],\n",
       "         [0.11372549, 0.07058824, 0.05490196],\n",
       "         [0.18431373, 0.14117648, 0.1254902 ],\n",
       "         ...,\n",
       "         [0.93333334, 0.9098039 , 0.85490197],\n",
       "         [0.972549  , 0.9137255 , 0.8392157 ],\n",
       "         [0.92156863, 0.8980392 , 0.8509804 ]],\n",
       "\n",
       "        [[0.12156863, 0.07843138, 0.0627451 ],\n",
       "         [0.15294118, 0.10980392, 0.09411765],\n",
       "         [0.13333334, 0.09019608, 0.07450981],\n",
       "         ...,\n",
       "         [0.88235295, 0.8784314 , 0.87058824],\n",
       "         [0.87058824, 0.8666667 , 0.84705883],\n",
       "         [0.41960785, 0.4392157 , 0.4627451 ]],\n",
       "\n",
       "        [[0.09803922, 0.05490196, 0.03921569],\n",
       "         [0.14117648, 0.09803922, 0.08235294],\n",
       "         [0.15686275, 0.11372549, 0.09803922],\n",
       "         ...,\n",
       "         [0.21568628, 0.23529412, 0.34901962],\n",
       "         [0.16862746, 0.27058825, 0.36078432],\n",
       "         [0.13725491, 0.26666668, 0.40392157]]],\n",
       "\n",
       "\n",
       "       [[[0.25490198, 0.25490198, 0.2627451 ],\n",
       "         [0.27450982, 0.27450982, 0.28235295],\n",
       "         [0.28235295, 0.28235295, 0.2901961 ],\n",
       "         ...,\n",
       "         [0.32941177, 0.22352941, 0.14901961],\n",
       "         [0.31764707, 0.21176471, 0.14509805],\n",
       "         [0.28235295, 0.17254902, 0.1254902 ]],\n",
       "\n",
       "        [[0.21568628, 0.21568628, 0.22352941],\n",
       "         [0.20392157, 0.20392157, 0.21176471],\n",
       "         [0.23529412, 0.23529412, 0.24313726],\n",
       "         ...,\n",
       "         [0.2901961 , 0.20392157, 0.12156863],\n",
       "         [0.26666668, 0.1764706 , 0.10588235],\n",
       "         [0.24705882, 0.15294118, 0.10588235]],\n",
       "\n",
       "        [[0.19215687, 0.18431373, 0.19607843],\n",
       "         [0.2       , 0.19215687, 0.20392157],\n",
       "         [0.20392157, 0.19607843, 0.20784314],\n",
       "         ...,\n",
       "         [0.3254902 , 0.21176471, 0.14901961],\n",
       "         [0.27058825, 0.16862746, 0.10980392],\n",
       "         [0.19215687, 0.13725491, 0.08627451]],\n",
       "\n",
       "        ...,\n",
       "\n",
       "        [[0.7921569 , 0.22352941, 0.11764706],\n",
       "         [0.7607843 , 0.18431373, 0.12156863],\n",
       "         [0.7607843 , 0.18431373, 0.10588235],\n",
       "         ...,\n",
       "         [0.37254903, 0.28627452, 0.19607843],\n",
       "         [0.25490198, 0.21568628, 0.11764706],\n",
       "         [0.5019608 , 0.5019608 , 0.40784314]],\n",
       "\n",
       "        [[0.827451  , 0.23529412, 0.11372549],\n",
       "         [0.8       , 0.2       , 0.12941177],\n",
       "         [0.80784315, 0.21176471, 0.12156863],\n",
       "         ...,\n",
       "         [0.22352941, 0.19607843, 0.1254902 ],\n",
       "         [0.61960787, 0.6313726 , 0.5568628 ],\n",
       "         [0.27450982, 0.2901961 , 0.23137255]],\n",
       "\n",
       "        [[0.84705883, 0.24705882, 0.1254902 ],\n",
       "         [0.84313726, 0.25490198, 0.16078432],\n",
       "         [0.79607844, 0.20784314, 0.14117648],\n",
       "         ...,\n",
       "         [0.6392157 , 0.6509804 , 0.5764706 ],\n",
       "         [0.31764707, 0.30980393, 0.2627451 ],\n",
       "         [0.2901961 , 0.25490198, 0.1882353 ]]],\n",
       "\n",
       "\n",
       "       [[[0.36078432, 0.17254902, 0.11764706],\n",
       "         [0.3529412 , 0.16470589, 0.10980392],\n",
       "         [0.3647059 , 0.1764706 , 0.12156863],\n",
       "         ...,\n",
       "         [0.65882355, 0.40784314, 0.29803923],\n",
       "         [0.627451  , 0.4117647 , 0.2901961 ],\n",
       "         [0.654902  , 0.48235294, 0.34509805]],\n",
       "\n",
       "        [[0.3764706 , 0.1882353 , 0.13333334],\n",
       "         [0.34901962, 0.16078432, 0.10588235],\n",
       "         [0.33333334, 0.14509805, 0.09019608],\n",
       "         ...,\n",
       "         [0.6862745 , 0.4509804 , 0.31764707],\n",
       "         [0.68235296, 0.4627451 , 0.3254902 ],\n",
       "         [0.627451  , 0.43137255, 0.28627452]],\n",
       "\n",
       "        [[0.3529412 , 0.16470589, 0.10980392],\n",
       "         [0.34901962, 0.16078432, 0.10588235],\n",
       "         [0.3529412 , 0.16470589, 0.10980392],\n",
       "         ...,\n",
       "         [0.6509804 , 0.4392157 , 0.29803923],\n",
       "         [0.67058825, 0.45882353, 0.31764707],\n",
       "         [0.6901961 , 0.49411765, 0.34901962]],\n",
       "\n",
       "        ...,\n",
       "\n",
       "        [[0.7529412 , 0.52156866, 0.34901962],\n",
       "         [0.7882353 , 0.5568628 , 0.38431373],\n",
       "         [0.68235296, 0.4509804 , 0.2784314 ],\n",
       "         ...,\n",
       "         [0.7411765 , 0.5411765 , 0.3647059 ],\n",
       "         [0.73333335, 0.53333336, 0.3647059 ],\n",
       "         [0.8039216 , 0.6       , 0.45490196]],\n",
       "\n",
       "        [[0.81960785, 0.5882353 , 0.41568628],\n",
       "         [0.6666667 , 0.43529412, 0.2627451 ],\n",
       "         [0.7019608 , 0.47058824, 0.29803923],\n",
       "         ...,\n",
       "         [0.6431373 , 0.44313726, 0.26666668],\n",
       "         [0.78039217, 0.5803922 , 0.4117647 ],\n",
       "         [0.827451  , 0.62352943, 0.47843137]],\n",
       "\n",
       "        [[0.72156864, 0.49019608, 0.31764707],\n",
       "         [0.7764706 , 0.54509807, 0.37254903],\n",
       "         [0.7137255 , 0.48235294, 0.30980393],\n",
       "         ...,\n",
       "         [0.7607843 , 0.56078434, 0.38431373],\n",
       "         [0.73333335, 0.53333336, 0.3647059 ],\n",
       "         [0.81960785, 0.6156863 , 0.47058824]]],\n",
       "\n",
       "\n",
       "       [[[0.79607844, 0.80784315, 0.8352941 ],\n",
       "         [0.80784315, 0.81960785, 0.84705883],\n",
       "         [0.8117647 , 0.8235294 , 0.8509804 ],\n",
       "         ...,\n",
       "         [0.79607844, 0.80784315, 0.827451  ],\n",
       "         [0.69803923, 0.70980394, 0.7294118 ],\n",
       "         [0.7647059 , 0.7764706 , 0.79607844]],\n",
       "\n",
       "        [[0.8156863 , 0.827451  , 0.85490197],\n",
       "         [0.8156863 , 0.827451  , 0.85490197],\n",
       "         [0.8156863 , 0.827451  , 0.85490197],\n",
       "         ...,\n",
       "         [0.78039217, 0.7921569 , 0.8117647 ],\n",
       "         [0.77254903, 0.78431374, 0.8039216 ],\n",
       "         [0.7647059 , 0.7764706 , 0.79607844]],\n",
       "\n",
       "        [[0.80784315, 0.81960785, 0.84705883],\n",
       "         [0.8156863 , 0.827451  , 0.85490197],\n",
       "         [0.8156863 , 0.827451  , 0.85490197],\n",
       "         ...,\n",
       "         [0.78431374, 0.79607844, 0.8156863 ],\n",
       "         [0.78431374, 0.79607844, 0.8156863 ],\n",
       "         [0.75686276, 0.76862746, 0.7882353 ]],\n",
       "\n",
       "        ...,\n",
       "\n",
       "        [[0.7882353 , 0.8       , 0.81960785],\n",
       "         [0.7921569 , 0.8039216 , 0.8235294 ],\n",
       "         [0.8       , 0.8117647 , 0.83137256],\n",
       "         ...,\n",
       "         [0.74509805, 0.75686276, 0.7764706 ],\n",
       "         [0.7411765 , 0.7529412 , 0.77254903],\n",
       "         [0.7529412 , 0.76862746, 0.78039217]],\n",
       "\n",
       "        [[0.7921569 , 0.8039216 , 0.8235294 ],\n",
       "         [0.7921569 , 0.8039216 , 0.8235294 ],\n",
       "         [0.79607844, 0.80784315, 0.827451  ],\n",
       "         ...,\n",
       "         [0.7411765 , 0.7529412 , 0.77254903],\n",
       "         [0.7254902 , 0.7372549 , 0.75686276],\n",
       "         [0.7411765 , 0.7529412 , 0.78039217]],\n",
       "\n",
       "        [[0.78431374, 0.79607844, 0.8156863 ],\n",
       "         [0.79607844, 0.80784315, 0.827451  ],\n",
       "         [0.79607844, 0.80784315, 0.827451  ],\n",
       "         ...,\n",
       "         [0.7254902 , 0.7411765 , 0.74509805],\n",
       "         [0.72156864, 0.7372549 , 0.7411765 ],\n",
       "         [0.7294118 , 0.74509805, 0.7490196 ]]],\n",
       "\n",
       "\n",
       "       [[[0.61960787, 0.8       , 0.21176471],\n",
       "         [0.627451  , 0.80784315, 0.21568628],\n",
       "         [0.6392157 , 0.8156863 , 0.24705882],\n",
       "         ...,\n",
       "         [0.7176471 , 0.5254902 , 0.39607844],\n",
       "         [0.6784314 , 0.4392157 , 0.32941177],\n",
       "         [0.972549  , 0.8666667 , 0.78431374]],\n",
       "\n",
       "        [[0.70980394, 0.8627451 , 0.19215687],\n",
       "         [0.7882353 , 0.9254902 , 0.36862746],\n",
       "         [0.69411767, 0.8352941 , 0.23921569],\n",
       "         ...,\n",
       "         [0.7254902 , 0.54901963, 0.42745098],\n",
       "         [0.972549  , 0.84705883, 0.7647059 ],\n",
       "         [0.89411765, 0.827451  , 0.7490196 ]],\n",
       "\n",
       "        [[0.78039217, 0.9529412 , 0.32941177],\n",
       "         [0.68235296, 0.85490197, 0.23137255],\n",
       "         [0.65882355, 0.8       , 0.3764706 ],\n",
       "         ...,\n",
       "         [0.96862745, 0.84313726, 0.78431374],\n",
       "         [0.8980392 , 0.8352941 , 0.77254903],\n",
       "         [0.8980392 , 0.7921569 , 0.6745098 ]],\n",
       "\n",
       "        ...,\n",
       "\n",
       "        [[0.39215687, 0.5686275 , 0.07058824],\n",
       "         [0.6745098 , 0.7882353 , 0.46666667],\n",
       "         [0.5529412 , 0.68235296, 0.09019608],\n",
       "         ...,\n",
       "         [0.23137255, 0.39607844, 0.07450981],\n",
       "         [0.17254902, 0.3254902 , 0.10196079],\n",
       "         [0.19215687, 0.33333334, 0.09411765]],\n",
       "\n",
       "        [[0.18039216, 0.39607844, 0.        ],\n",
       "         [0.42352942, 0.65882355, 0.13333334],\n",
       "         [0.4862745 , 0.70980394, 0.01568628],\n",
       "         ...,\n",
       "         [0.25882354, 0.40392157, 0.19215687],\n",
       "         [0.1882353 , 0.33333334, 0.12156863],\n",
       "         [0.23137255, 0.38431373, 0.16862746]],\n",
       "\n",
       "        [[0.3254902 , 0.5529412 , 0.01960784],\n",
       "         [0.58431375, 0.84705883, 0.22745098],\n",
       "         [0.7058824 , 0.9019608 , 0.52156866],\n",
       "         ...,\n",
       "         [0.19607843, 0.3137255 , 0.10196079],\n",
       "         [0.17254902, 0.24313726, 0.04705882],\n",
       "         [0.16078432, 0.29803923, 0.07843138]]]], dtype=float32)"
      ]
     },
     "execution_count": 12,
     "metadata": {},
     "output_type": "execute_result"
    }
   ],
   "source": [
    "x_train[:5]"
   ]
  },
  {
   "cell_type": "code",
   "execution_count": 13,
   "metadata": {},
   "outputs": [
    {
     "data": {
      "text/plain": [
       "array(['cachorro', 'gato'], dtype='<U8')"
      ]
     },
     "execution_count": 13,
     "metadata": {},
     "output_type": "execute_result"
    }
   ],
   "source": [
    "lb.classes_"
   ]
  },
  {
   "cell_type": "code",
   "execution_count": 14,
   "metadata": {},
   "outputs": [
    {
     "data": {
      "text/plain": [
       "<bound method BaseEstimator.get_params of LabelBinarizer(neg_label=0, pos_label=1, sparse_output=False)>"
      ]
     },
     "execution_count": 14,
     "metadata": {},
     "output_type": "execute_result"
    }
   ],
   "source": [
    "lb.get_params"
   ]
  },
  {
   "cell_type": "code",
   "execution_count": 15,
   "metadata": {},
   "outputs": [],
   "source": [
    "import keras.backend as K"
   ]
  },
  {
   "cell_type": "code",
   "execution_count": 16,
   "metadata": {},
   "outputs": [
    {
     "data": {
      "text/plain": [
       "'channels_last'"
      ]
     },
     "execution_count": 16,
     "metadata": {},
     "output_type": "execute_result"
    }
   ],
   "source": [
    "K.image_data_format()"
   ]
  },
  {
   "cell_type": "code",
   "execution_count": 17,
   "metadata": {},
   "outputs": [
    {
     "name": "stdout",
     "output_type": "stream",
     "text": [
      "(3750, 64, 64, 3)\n",
      "(3750, 1)\n"
     ]
    }
   ],
   "source": [
    "print(x_train.shape)\n",
    "print(y_train.shape)"
   ]
  },
  {
   "cell_type": "markdown",
   "metadata": {},
   "source": [
    "# Gerando imagens"
   ]
  },
  {
   "cell_type": "code",
   "execution_count": 45,
   "metadata": {},
   "outputs": [],
   "source": [
    "aug = ImageDataGenerator(rotation_range=7,\n",
    "                               horizontal_flip= True,\n",
    "                               shear_range= 0.2, \n",
    "                               height_shift_range= 0.07,\n",
    "                               zoom_range= 0.2)"
   ]
  },
  {
   "cell_type": "code",
   "execution_count": 46,
   "metadata": {},
   "outputs": [],
   "source": [
    "augTest = ImageDataGenerator()"
   ]
  },
  {
   "cell_type": "code",
   "execution_count": 47,
   "metadata": {},
   "outputs": [],
   "source": [
    "dataset_train = aug.flow(x_train, y_train, batch_size=32)"
   ]
  },
  {
   "cell_type": "markdown",
   "metadata": {},
   "source": [
    "# Criando modelo e Compilando"
   ]
  },
  {
   "cell_type": "code",
   "execution_count": 82,
   "metadata": {},
   "outputs": [],
   "source": [
    "model = Sequential()\n",
    "\n",
    "model.add(Conv2D(32, (3,3), input_shape = (64, 64, 3), padding = 'same', activation = 'relu'))\n",
    "model.add(BatchNormalization())\n",
    "model.add(Conv2D(32, (3,3), input_shape = (64, 64, 3), padding = 'same', activation = 'relu'))\n",
    "model.add(BatchNormalization())\n",
    "model.add(MaxPooling2D(pool_size=(2, 2)))\n",
    "model.add(Dropout(0.25))\n",
    "\n",
    "model.add(Conv2D(64, (3,3), padding = 'same', activation = 'relu'))\n",
    "model.add(BatchNormalization())\n",
    "model.add(Conv2D(64, (3,3), padding = 'same', activation = 'relu'))\n",
    "model.add(BatchNormalization())\n",
    "model.add(MaxPooling2D(pool_size=(2,2)))\n",
    "model.add(Dropout(0.25))\n",
    "\n",
    "model.add(Conv2D(128, (3,3), padding = 'same', activation = 'relu'))\n",
    "model.add(BatchNormalization())\n",
    "model.add(MaxPooling2D(pool_size=(2,2)))\n",
    "model.add(Dropout(0.25))\n",
    "\n",
    "model.add(Flatten())\n",
    "\n",
    "model.add(Dense(10))\n",
    "model.add(Activation('relu'))\n",
    "model.add(BatchNormalization())\n",
    "model.add(Dropout(0.25))\n",
    "\n",
    "model.add(Dense(1, activation = 'sigmoid'))"
   ]
  },
  {
   "cell_type": "code",
   "execution_count": 70,
   "metadata": {},
   "outputs": [],
   "source": [
    "from keras.optimizers import SGD, Adam, RMSprop \n",
    "from keras.callbacks import LearningRateScheduler\n"
   ]
  },
  {
   "cell_type": "code",
   "execution_count": 71,
   "metadata": {},
   "outputs": [],
   "source": [
    "sgd = SGD(lr=0.01, decay=0.0001)"
   ]
  },
  {
   "cell_type": "code",
   "execution_count": 72,
   "metadata": {},
   "outputs": [],
   "source": [
    "model.compile(loss='binary_crossentropy', optimizer=sgd, metrics=['accuracy'])"
   ]
  },
  {
   "cell_type": "code",
   "execution_count": 73,
   "metadata": {},
   "outputs": [
    {
     "name": "stdout",
     "output_type": "stream",
     "text": [
      "Epoch 1/20\n",
      "125/125 [==============================] - 156s 1s/step - loss: 0.7267 - acc: 0.5816 - val_loss: 0.6204 - val_acc: 0.6656\n",
      "Epoch 2/20\n",
      "125/125 [==============================] - 143s 1s/step - loss: 0.6594 - acc: 0.6288 - val_loss: 0.7018 - val_acc: 0.5688\n",
      "Epoch 3/20\n",
      "125/125 [==============================] - 142s 1s/step - loss: 0.6323 - acc: 0.6490 - val_loss: 0.6551 - val_acc: 0.6153\n",
      "Epoch 4/20\n",
      "125/125 [==============================] - 144s 1s/step - loss: 0.6149 - acc: 0.6605 - val_loss: 0.6162 - val_acc: 0.6578\n",
      "Epoch 5/20\n",
      "125/125 [==============================] - 149s 1s/step - loss: 0.6085 - acc: 0.6708 - val_loss: 0.6255 - val_acc: 0.6503\n",
      "Epoch 6/20\n",
      "125/125 [==============================] - 148s 1s/step - loss: 0.5758 - acc: 0.6978 - val_loss: 0.5679 - val_acc: 0.7089\n",
      "Epoch 7/20\n",
      "125/125 [==============================] - 145s 1s/step - loss: 0.5733 - acc: 0.6932 - val_loss: 0.5631 - val_acc: 0.7217\n",
      "Epoch 8/20\n",
      "125/125 [==============================] - 144s 1s/step - loss: 0.5741 - acc: 0.7056 - val_loss: 0.5853 - val_acc: 0.6792\n",
      "Epoch 9/20\n",
      "125/125 [==============================] - 145s 1s/step - loss: 0.5641 - acc: 0.7068 - val_loss: 0.6160 - val_acc: 0.6732\n",
      "Epoch 10/20\n",
      "125/125 [==============================] - 155s 1s/step - loss: 0.5480 - acc: 0.7173 - val_loss: 0.5416 - val_acc: 0.7261\n",
      "Epoch 11/20\n",
      "125/125 [==============================] - 149s 1s/step - loss: 0.5325 - acc: 0.7308 - val_loss: 0.5654 - val_acc: 0.6987\n",
      "Epoch 12/20\n",
      "125/125 [==============================] - 141s 1s/step - loss: 0.5370 - acc: 0.7282 - val_loss: 0.5802 - val_acc: 0.6994\n",
      "Epoch 13/20\n",
      "125/125 [==============================] - 142s 1s/step - loss: 0.5230 - acc: 0.7471 - val_loss: 0.5658 - val_acc: 0.6898\n",
      "Epoch 14/20\n",
      "125/125 [==============================] - 142s 1s/step - loss: 0.5205 - acc: 0.7378 - val_loss: 0.5518 - val_acc: 0.7229\n",
      "Epoch 15/20\n",
      "125/125 [==============================] - 152s 1s/step - loss: 0.5051 - acc: 0.7496 - val_loss: 0.4886 - val_acc: 0.7662\n",
      "Epoch 16/20\n",
      "125/125 [==============================] - 141s 1s/step - loss: 0.5059 - acc: 0.7528 - val_loss: 0.5909 - val_acc: 0.6760\n",
      "Epoch 17/20\n",
      "125/125 [==============================] - 139s 1s/step - loss: 0.5011 - acc: 0.7448 - val_loss: 0.4913 - val_acc: 0.7643\n",
      "Epoch 18/20\n",
      "125/125 [==============================] - 147s 1s/step - loss: 0.4996 - acc: 0.7579 - val_loss: 0.5083 - val_acc: 0.7618\n",
      "Epoch 19/20\n",
      "125/125 [==============================] - 147s 1s/step - loss: 0.4996 - acc: 0.7589 - val_loss: 0.4799 - val_acc: 0.7643\n",
      "Epoch 20/20\n",
      "125/125 [==============================] - 203s 2s/step - loss: 0.4942 - acc: 0.7654 - val_loss: 0.4926 - val_acc: 0.7513\n"
     ]
    }
   ],
   "source": [
    "H = model.fit_generator(generator=dataset_train, steps_per_epoch= 125, \n",
    "                        epochs= 20, validation_data= augTest.flow(x_test, y_test), validation_steps= 50)"
   ]
  },
  {
   "cell_type": "code",
   "execution_count": 74,
   "metadata": {},
   "outputs": [
    {
     "data": {
      "image/png": "[encoded data removed]",
      "text/plain": [
       "<Figure size 432x288 with 1 Axes>"
      ]
     },
     "metadata": {
      "needs_background": "light"
     },
     "output_type": "display_data"
    }
   ],
   "source": [
    "plt.figure()\n",
    "plt.plot(H.history['loss'], label = 'loss')\n",
    "plt.plot(H.history['val_loss'], label = 'val_loss')\n",
    "plt.plot(H.history['acc'], label = 'acc')\n",
    "plt.plot(H.history['val_acc'], label = 'val_acc')\n",
    "plt.xlabel(\"Epochs #\")\n",
    "plt.ylabel(\"Loss/Accuracy\")\n",
    "plt.legend()\n",
    "plt.show()"
   ]
  },
  {
   "cell_type": "code",
   "execution_count": 75,
   "metadata": {},
   "outputs": [
    {
     "name": "stdout",
     "output_type": "stream",
     "text": [
      "1250/1250 [==============================] - 15s 12ms/step\n"
     ]
    },
    {
     "data": {
      "text/plain": [
       "[0.48531414518356325, 0.7576]"
      ]
     },
     "execution_count": 75,
     "metadata": {},
     "output_type": "execute_result"
    }
   ],
   "source": [
    "scores = model.evaluate(x_test, y_test, batch_size=32)\n",
    "scores"
   ]
  },
  {
   "cell_type": "code",
   "execution_count": 76,
   "metadata": {},
   "outputs": [],
   "source": [
    "from sklearn.metrics import classification_report, confusion_matrix"
   ]
  },
  {
   "cell_type": "code",
   "execution_count": 77,
   "metadata": {},
   "outputs": [],
   "source": [
    "preds = model.predict_classes(x_test)"
   ]
  },
  {
   "cell_type": "code",
   "execution_count": 78,
   "metadata": {},
   "outputs": [
    {
     "name": "stdout",
     "output_type": "stream",
     "text": [
      "              precision    recall  f1-score   support\n",
      "\n",
      "           0       0.71      0.80      0.75       583\n",
      "           1       0.80      0.72      0.76       667\n",
      "\n",
      "    accuracy                           0.76      1250\n",
      "   macro avg       0.76      0.76      0.76      1250\n",
      "weighted avg       0.76      0.76      0.76      1250\n",
      "\n"
     ]
    }
   ],
   "source": [
    "print(classification_report(y_test, preds))"
   ]
  },
  {
   "cell_type": "code",
   "execution_count": 79,
   "metadata": {},
   "outputs": [
    {
     "data": {
      "text/plain": [
       "array([[466, 117],\n",
       "       [186, 481]])"
      ]
     },
     "execution_count": 79,
     "metadata": {},
     "output_type": "execute_result"
    }
   ],
   "source": [
    "confusion_matrix(y_test, preds)"
   ]
  },
  {
   "cell_type": "markdown",
   "metadata": {},
   "source": [
    "# Criando e Compilando o modelo\n",
    "\n",
    "- Aumentando Convoluções de saída"
   ]
  },
  {
   "cell_type": "code",
   "execution_count": 83,
   "metadata": {},
   "outputs": [],
   "source": [
    "model2 = Sequential()\n",
    "\n",
    "model2.add(Conv2D(32, (3,3), input_shape = (64, 64, 3), padding = 'same', activation = 'relu'))\n",
    "model2.add(BatchNormalization())\n",
    "model2.add(Conv2D(32, (3,3), input_shape = (64, 64, 3), padding = 'same', activation = 'relu'))\n",
    "model2.add(BatchNormalization())\n",
    "model2.add(MaxPooling2D(pool_size=(2, 2)))\n",
    "model2.add(Dropout(0.25))\n",
    "\n",
    "model2.add(Conv2D(64, (3,3), padding = 'same', activation = 'relu'))\n",
    "model2.add(BatchNormalization())\n",
    "model2.add(Conv2D(64, (3,3), padding = 'same', activation = 'relu'))\n",
    "model2.add(BatchNormalization())\n",
    "model2.add(MaxPooling2D(pool_size=(2,2)))\n",
    "model2.add(Dropout(0.25))\n",
    "\n",
    "model2.add(Conv2D(128, (3,3), padding = 'same', activation = 'relu'))\n",
    "model2.add(BatchNormalization())\n",
    "model2.add(Conv2D(128, (3,3), padding = 'same', activation = 'relu'))\n",
    "model2.add(BatchNormalization())\n",
    "model2.add(Conv2D(128, (3,3), padding = 'same', activation = 'relu'))\n",
    "model2.add(BatchNormalization())\n",
    "model2.add(MaxPooling2D(pool_size=(2,2)))\n",
    "model2.add(Dropout(0.25))\n",
    "\n",
    "model2.add(Flatten())\n",
    "\n",
    "model2.add(Dense(10))\n",
    "model2.add(Activation('relu'))\n",
    "model2.add(BatchNormalization())\n",
    "model2.add(Dropout(0.25))\n",
    "\n",
    "model2.add(Dense(1, activation = 'sigmoid'))"
   ]
  },
  {
   "cell_type": "code",
   "execution_count": 81,
   "metadata": {},
   "outputs": [],
   "source": [
    "sgd = SGD(lr=0.01, decay=0.0001)"
   ]
  },
  {
   "cell_type": "code",
   "execution_count": 84,
   "metadata": {},
   "outputs": [],
   "source": [
    "model2.compile(loss='binary_crossentropy', optimizer=sgd, metrics=['accuracy'])"
   ]
  },
  {
   "cell_type": "code",
   "execution_count": 85,
   "metadata": {},
   "outputs": [
    {
     "name": "stdout",
     "output_type": "stream",
     "text": [
      "Epoch 1/20\n",
      "125/125 [==============================] - 214s 2s/step - loss: 0.7361 - acc: 0.5648 - val_loss: 0.6135 - val_acc: 0.6726\n",
      "Epoch 2/20\n",
      "125/125 [==============================] - 200s 2s/step - loss: 0.6839 - acc: 0.6156 - val_loss: 1.0287 - val_acc: 0.5490\n",
      "Epoch 3/20\n",
      "125/125 [==============================] - 193s 2s/step - loss: 0.6378 - acc: 0.6552 - val_loss: 0.7054 - val_acc: 0.6312\n",
      "Epoch 4/20\n",
      "125/125 [==============================] - 187s 1s/step - loss: 0.6256 - acc: 0.6602 - val_loss: 0.5777 - val_acc: 0.7078\n",
      "Epoch 5/20\n",
      "125/125 [==============================] - 194s 2s/step - loss: 0.5968 - acc: 0.6866 - val_loss: 0.5974 - val_acc: 0.6866\n",
      "Epoch 6/20\n",
      "125/125 [==============================] - 202s 2s/step - loss: 0.5867 - acc: 0.6856 - val_loss: 0.6270 - val_acc: 0.6484\n",
      "Epoch 7/20\n",
      "125/125 [==============================] - 201s 2s/step - loss: 0.5575 - acc: 0.7154 - val_loss: 0.5596 - val_acc: 0.7140\n",
      "Epoch 8/20\n",
      "125/125 [==============================] - 202s 2s/step - loss: 0.5592 - acc: 0.7172 - val_loss: 0.5582 - val_acc: 0.7162\n",
      "Epoch 9/20\n",
      "125/125 [==============================] - 230s 2s/step - loss: 0.5541 - acc: 0.7127 - val_loss: 0.5947 - val_acc: 0.6994\n",
      "Epoch 10/20\n",
      "125/125 [==============================] - 189s 2s/step - loss: 0.5316 - acc: 0.7354 - val_loss: 0.5273 - val_acc: 0.7490\n",
      "Epoch 11/20\n",
      "125/125 [==============================] - 201s 2s/step - loss: 0.5213 - acc: 0.7419 - val_loss: 0.5784 - val_acc: 0.7013\n",
      "Epoch 12/20\n",
      "125/125 [==============================] - 196s 2s/step - loss: 0.5277 - acc: 0.7413 - val_loss: 0.5104 - val_acc: 0.7597\n",
      "Epoch 13/20\n",
      "125/125 [==============================] - 195s 2s/step - loss: 0.5039 - acc: 0.7520 - val_loss: 0.5038 - val_acc: 0.7484\n",
      "Epoch 14/20\n",
      "125/125 [==============================] - 199s 2s/step - loss: 0.5039 - acc: 0.7475 - val_loss: 0.5200 - val_acc: 0.7369\n",
      "Epoch 15/20\n",
      "125/125 [==============================] - 199s 2s/step - loss: 0.4798 - acc: 0.7670 - val_loss: 0.6619 - val_acc: 0.6650\n",
      "Epoch 16/20\n",
      "125/125 [==============================] - 194s 2s/step - loss: 0.4913 - acc: 0.7597 - val_loss: 0.6616 - val_acc: 0.6656\n",
      "Epoch 17/20\n",
      "125/125 [==============================] - 189s 2s/step - loss: 0.4936 - acc: 0.7583 - val_loss: 0.5529 - val_acc: 0.7236\n",
      "Epoch 18/20\n",
      "125/125 [==============================] - 193s 2s/step - loss: 0.4963 - acc: 0.7572 - val_loss: 0.6728 - val_acc: 0.6561\n",
      "Epoch 19/20\n",
      "125/125 [==============================] - 198s 2s/step - loss: 0.4703 - acc: 0.7812 - val_loss: 0.5419 - val_acc: 0.7178\n",
      "Epoch 20/20\n",
      "125/125 [==============================] - 202s 2s/step - loss: 0.4664 - acc: 0.7732 - val_loss: 0.5040 - val_acc: 0.7468\n"
     ]
    }
   ],
   "source": [
    "H2 = model2.fit_generator(generator=dataset_train, steps_per_epoch=125,\n",
    "                          epochs=20, validation_data=augTest.flow(x_test, y_test), validation_steps= 50)"
   ]
  },
  {
   "cell_type": "code",
   "execution_count": 86,
   "metadata": {},
   "outputs": [
    {
     "data": {
      "image/png": "[encoded data removed]",
      "text/plain": [
       "<Figure size 432x288 with 1 Axes>"
      ]
     },
     "metadata": {
      "needs_background": "light"
     },
     "output_type": "display_data"
    }
   ],
   "source": [
    "plt.figure()\n",
    "plt.plot(H2.history['loss'], label='loss')\n",
    "plt.plot(H2.history['val_loss'], label='val_loss')\n",
    "plt.plot(H2.history['acc'], label='acc')\n",
    "plt.plot(H2.history['val_acc'], label='val_acc')\n",
    "plt.legend()\n",
    "plt.xlabel(\"Epochs #\")\n",
    "plt.ylabel(\"Loss/Accuracy\")\n",
    "plt.show()"
   ]
  },
  {
   "cell_type": "code",
   "execution_count": 87,
   "metadata": {},
   "outputs": [
    {
     "name": "stdout",
     "output_type": "stream",
     "text": [
      "1250/1250 [==============================] - 20s 16ms/step\n"
     ]
    }
   ],
   "source": [
    "scores = model2.evaluate(x_test, y_test, batch_size=32)"
   ]
  },
  {
   "cell_type": "code",
   "execution_count": 89,
   "metadata": {},
   "outputs": [
    {
     "data": {
      "text/plain": [
       "[0.5138313446044922, 0.744]"
      ]
     },
     "execution_count": 89,
     "metadata": {},
     "output_type": "execute_result"
    }
   ],
   "source": [
    "scores"
   ]
  },
  {
   "cell_type": "code",
   "execution_count": 91,
   "metadata": {},
   "outputs": [],
   "source": [
    "preds = model2.predict_classes(x_test)"
   ]
  },
  {
   "cell_type": "code",
   "execution_count": 92,
   "metadata": {},
   "outputs": [
    {
     "name": "stdout",
     "output_type": "stream",
     "text": [
      "              precision    recall  f1-score   support\n",
      "\n",
      "           0       0.73      0.71      0.72       583\n",
      "           1       0.75      0.78      0.76       667\n",
      "\n",
      "    accuracy                           0.74      1250\n",
      "   macro avg       0.74      0.74      0.74      1250\n",
      "weighted avg       0.74      0.74      0.74      1250\n",
      "\n"
     ]
    }
   ],
   "source": [
    "print(classification_report(y_test, preds))"
   ]
  },
  {
   "cell_type": "code",
   "execution_count": 94,
   "metadata": {},
   "outputs": [
    {
     "data": {
      "text/plain": [
       "array([[412, 171],\n",
       "       [149, 518]])"
      ]
     },
     "execution_count": 94,
     "metadata": {},
     "output_type": "execute_result"
    }
   ],
   "source": [
    "confusion_matrix(y_test, preds)"
   ]
  },
  {
   "cell_type": "markdown",
   "metadata": {},
   "source": [
    "## Criando e Compilando modelo"
   ]
  },
  {
   "cell_type": "code",
   "execution_count": 95,
   "metadata": {},
   "outputs": [],
   "source": [
    "model3 = Sequential()\n",
    "\n",
    "model3.add(Conv2D(32, (3,3), input_shape = (64, 64, 3), padding = 'same', activation = 'relu'))\n",
    "model3.add(BatchNormalization())\n",
    "model3.add(Conv2D(32, (3,3), input_shape = (64, 64, 3), padding = 'same', activation = 'relu'))\n",
    "model3.add(BatchNormalization())\n",
    "model3.add(MaxPooling2D(pool_size=(2, 2)))\n",
    "model3.add(Dropout(0.25))\n",
    "\n",
    "model3.add(Conv2D(64, (3,3), padding = 'same', activation = 'relu'))\n",
    "model3.add(BatchNormalization())\n",
    "model3.add(Conv2D(64, (3,3), padding = 'same', activation = 'relu'))\n",
    "model3.add(BatchNormalization())\n",
    "model3.add(MaxPooling2D(pool_size=(2,2)))\n",
    "model3.add(Dropout(0.25))\n",
    "\n",
    "model3.add(Conv2D(128, (3,3), padding = 'same', activation = 'relu'))\n",
    "model3.add(BatchNormalization())\n",
    "model3.add(Conv2D(128, (3,3), padding = 'same', activation = 'relu'))\n",
    "model3.add(BatchNormalization())\n",
    "model3.add(Conv2D(128, (3,3), padding = 'same', activation = 'relu'))\n",
    "model3.add(BatchNormalization())\n",
    "model3.add(MaxPooling2D(pool_size=(2,2)))\n",
    "model3.add(Dropout(0.25))\n",
    "\n",
    "model3.add(Flatten())\n",
    "\n",
    "model3.add(Dense(10))\n",
    "model3.add(Activation('relu'))\n",
    "model3.add(BatchNormalization())\n",
    "model3.add(Dropout(0.25))\n",
    "\n",
    "model3.add(Dense(1, activation = 'sigmoid'))"
   ]
  },
  {
   "cell_type": "code",
   "execution_count": 96,
   "metadata": {},
   "outputs": [],
   "source": [
    "model3.compile(loss='binary_crossentropy', optimizer='adam', metrics=['accuracy'])"
   ]
  },
  {
   "cell_type": "code",
   "execution_count": 97,
   "metadata": {},
   "outputs": [
    {
     "name": "stdout",
     "output_type": "stream",
     "text": [
      "Epoch 1/20\n",
      "125/125 [==============================] - 217s 2s/step - loss: 0.7234 - acc: 0.5876 - val_loss: 0.6898 - val_acc: 0.6287\n",
      "Epoch 2/20\n",
      "125/125 [==============================] - 209s 2s/step - loss: 0.6681 - acc: 0.6263 - val_loss: 0.7251 - val_acc: 0.6242\n",
      "Epoch 3/20\n",
      "125/125 [==============================] - 199s 2s/step - loss: 0.6568 - acc: 0.6318 - val_loss: 0.8089 - val_acc: 0.5401\n",
      "Epoch 4/20\n",
      "125/125 [==============================] - 201s 2s/step - loss: 0.6057 - acc: 0.6738 - val_loss: 0.6043 - val_acc: 0.6753\n",
      "Epoch 5/20\n",
      "125/125 [==============================] - 207s 2s/step - loss: 0.5759 - acc: 0.7018 - val_loss: 0.6818 - val_acc: 0.5554\n",
      "Epoch 6/20\n",
      "125/125 [==============================] - 183s 1s/step - loss: 0.5589 - acc: 0.7107 - val_loss: 0.7087 - val_acc: 0.6701\n",
      "Epoch 7/20\n",
      "125/125 [==============================] - 182s 1s/step - loss: 0.5296 - acc: 0.7442 - val_loss: 0.8671 - val_acc: 0.6484\n",
      "Epoch 8/20\n",
      "125/125 [==============================] - 181s 1s/step - loss: 0.5372 - acc: 0.7320 - val_loss: 0.5793 - val_acc: 0.7058\n",
      "Epoch 9/20\n",
      "125/125 [==============================] - 182s 1s/step - loss: 0.5134 - acc: 0.7454 - val_loss: 0.5750 - val_acc: 0.7070\n",
      "Epoch 10/20\n",
      "125/125 [==============================] - 182s 1s/step - loss: 0.5102 - acc: 0.7525 - val_loss: 0.6258 - val_acc: 0.6720\n",
      "Epoch 11/20\n",
      "125/125 [==============================] - 183s 1s/step - loss: 0.4714 - acc: 0.7729 - val_loss: 0.5338 - val_acc: 0.7541\n",
      "Epoch 12/20\n",
      "125/125 [==============================] - 183s 1s/step - loss: 0.4667 - acc: 0.7756 - val_loss: 0.4842 - val_acc: 0.7753\n",
      "Epoch 13/20\n",
      "125/125 [==============================] - 183s 1s/step - loss: 0.4484 - acc: 0.7935 - val_loss: 0.5097 - val_acc: 0.7535\n",
      "Epoch 14/20\n",
      "125/125 [==============================] - 184s 1s/step - loss: 0.4383 - acc: 0.7966 - val_loss: 0.5496 - val_acc: 0.7497\n",
      "Epoch 15/20\n",
      "125/125 [==============================] - 184s 1s/step - loss: 0.4141 - acc: 0.8177 - val_loss: 0.4611 - val_acc: 0.7911\n",
      "Epoch 16/20\n",
      "125/125 [==============================] - 184s 1s/step - loss: 0.4034 - acc: 0.8182 - val_loss: 0.4771 - val_acc: 0.7870\n",
      "Epoch 17/20\n",
      "125/125 [==============================] - 184s 1s/step - loss: 0.3815 - acc: 0.8267 - val_loss: 0.4204 - val_acc: 0.8102\n",
      "Epoch 18/20\n",
      "125/125 [==============================] - 182s 1s/step - loss: 0.3724 - acc: 0.8402 - val_loss: 0.4789 - val_acc: 0.7752\n",
      "Epoch 19/20\n",
      "125/125 [==============================] - 182s 1s/step - loss: 0.3542 - acc: 0.8519 - val_loss: 0.4944 - val_acc: 0.7669\n",
      "Epoch 20/20\n",
      "125/125 [==============================] - 183s 1s/step - loss: 0.3556 - acc: 0.8492 - val_loss: 0.3771 - val_acc: 0.8143\n"
     ]
    }
   ],
   "source": [
    "H3 = model3.fit_generator(generator=dataset_train, steps_per_epoch=125,\n",
    "                          epochs=20, validation_data=augTest.flow(x_test, y_test), validation_steps= 50)"
   ]
  },
  {
   "cell_type": "code",
   "execution_count": 98,
   "metadata": {},
   "outputs": [
    {
     "data": {
      "image/png": "[encoded data removed]",
      "text/plain": [
       "<Figure size 432x288 with 1 Axes>"
      ]
     },
     "metadata": {
      "needs_background": "light"
     },
     "output_type": "display_data"
    }
   ],
   "source": [
    "plt.figure()\n",
    "plt.plot(H3.history['loss'], label='loss')\n",
    "plt.plot(H3.history['val_loss'], label='val_loss')\n",
    "plt.plot(H3.history['acc'], label='acc')\n",
    "plt.plot(H3.history['val_acc'], label='val_acc')\n",
    "plt.xlabel(\"Epochs #\")\n",
    "plt.ylabel(\"Loss/Acc\")\n",
    "plt.legend()\n",
    "plt.show()"
   ]
  },
  {
   "cell_type": "code",
   "execution_count": 99,
   "metadata": {},
   "outputs": [
    {
     "name": "stdout",
     "output_type": "stream",
     "text": [
      "1250/1250 [==============================] - 19s 15ms/step\n"
     ]
    }
   ],
   "source": [
    "scores = model3.evaluate(x_test,y_test, batch_size=32)"
   ]
  },
  {
   "cell_type": "code",
   "execution_count": 100,
   "metadata": {},
   "outputs": [
    {
     "data": {
      "text/plain": [
       "[0.3773380428791046, 0.816]"
      ]
     },
     "execution_count": 100,
     "metadata": {},
     "output_type": "execute_result"
    }
   ],
   "source": [
    "scores"
   ]
  },
  {
   "cell_type": "code",
   "execution_count": 101,
   "metadata": {},
   "outputs": [],
   "source": [
    "preds = model3.predict_classes(x_test)"
   ]
  },
  {
   "cell_type": "code",
   "execution_count": 102,
   "metadata": {},
   "outputs": [
    {
     "name": "stdout",
     "output_type": "stream",
     "text": [
      "              precision    recall  f1-score   support\n",
      "\n",
      "           0       0.79      0.83      0.81       583\n",
      "           1       0.84      0.80      0.82       667\n",
      "\n",
      "    accuracy                           0.82      1250\n",
      "   macro avg       0.82      0.82      0.82      1250\n",
      "weighted avg       0.82      0.82      0.82      1250\n",
      "\n"
     ]
    }
   ],
   "source": [
    "print(classification_report(y_test,preds))"
   ]
  },
  {
   "cell_type": "code",
   "execution_count": 103,
   "metadata": {},
   "outputs": [
    {
     "data": {
      "text/plain": [
       "array([[484,  99],\n",
       "       [131, 536]])"
      ]
     },
     "execution_count": 103,
     "metadata": {},
     "output_type": "execute_result"
    }
   ],
   "source": [
    "confusion_matrix(y_test, preds)"
   ]
  },
  {
   "cell_type": "markdown",
   "metadata": {},
   "source": [
    "#### Teste com nova imagem"
   ]
  },
  {
   "cell_type": "code",
   "execution_count": 105,
   "metadata": {},
   "outputs": [],
   "source": [
    "imagem_teste = load_img(\"/home/matheusjerico/Documentos/DSA/05. MachineLearning/Cap-12-IntroduçãoDeepLearning/dataset_udemy/cachorro.jpg\", target_size=(64, 64))"
   ]
  },
  {
   "cell_type": "code",
   "execution_count": 106,
   "metadata": {},
   "outputs": [],
   "source": [
    "imagem_teste = np.array(imagem_teste) / 255."
   ]
  },
  {
   "cell_type": "code",
   "execution_count": 108,
   "metadata": {},
   "outputs": [
    {
     "data": {
      "text/plain": [
       "array([[0]], dtype=int32)"
      ]
     },
     "execution_count": 108,
     "metadata": {},
     "output_type": "execute_result"
    }
   ],
   "source": [
    "imagem_teste = imagem_teste.reshape(1, imagem_teste.shape[0], imagem_teste.shape[1], imagem_teste.shape[2])\n",
    "model3.predict_classes(imagem_teste)"
   ]
  },
  {
   "cell_type": "code",
   "execution_count": 113,
   "metadata": {},
   "outputs": [
    {
     "data": {
      "text/plain": [
       "'cachorro'"
      ]
     },
     "execution_count": 113,
     "metadata": {},
     "output_type": "execute_result"
    }
   ],
   "source": [
    "lb.classes_[0]"
   ]
  },
  {
   "cell_type": "markdown",
   "metadata": {},
   "source": [
    "#### Teste com nova imagem\n"
   ]
  },
  {
   "cell_type": "code",
   "execution_count": 125,
   "metadata": {},
   "outputs": [],
   "source": [
    "imagem_teste2 = load_img(\"/home/matheusjerico/Documentos/DSA/05. MachineLearning/Cap-12-IntroduçãoDeepLearning/dataset_udemy/gato.jpg\", target_size=(64, 64))"
   ]
  },
  {
   "cell_type": "code",
   "execution_count": 126,
   "metadata": {},
   "outputs": [],
   "source": [
    "imagem_teste2 = np.array(imagem_teste2) / 255."
   ]
  },
  {
   "cell_type": "code",
   "execution_count": 127,
   "metadata": {},
   "outputs": [
    {
     "data": {
      "text/plain": [
       "array([[1]], dtype=int32)"
      ]
     },
     "execution_count": 127,
     "metadata": {},
     "output_type": "execute_result"
    }
   ],
   "source": [
    "imagem_teste2 = imagem_teste2.reshape(1, imagem_teste2.shape[0], imagem_teste2.shape[1], imagem_teste2.shape[2])\n",
    "model3.predict_classes(imagem_teste2)"
   ]
  },
  {
   "cell_type": "code",
   "execution_count": 128,
   "metadata": {},
   "outputs": [
    {
     "data": {
      "text/plain": [
       "'gato'"
      ]
     },
     "execution_count": 128,
     "metadata": {},
     "output_type": "execute_result"
    }
   ],
   "source": [
    "lb.classes_[1]"
   ]
  }
 ],
 "metadata": {
  "kernelspec": {
   "display_name": "Python 3",
   "language": "python",
   "name": "python3"
  },
  "language_info": {
   "codemirror_mode": {
    "name": "ipython",
    "version": 3
   },
   "file_extension": ".py",
   "mimetype": "text/x-python",
   "name": "python",
   "nbconvert_exporter": "python",
   "pygments_lexer": "ipython3",
   "version": "3.6.7"
  }
 },
 "nbformat": 4,
 "nbformat_minor": 2
}
