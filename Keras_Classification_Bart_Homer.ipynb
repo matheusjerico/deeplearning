{
 "cells": [
  {
   "cell_type": "markdown",
   "metadata": {},
   "source": [
    "# Classificação Bart Homer"
   ]
  },
  {
   "cell_type": "code",
   "execution_count": 1,
   "metadata": {},
   "outputs": [
    {
     "name": "stderr",
     "output_type": "stream",
     "text": [
      "Using TensorFlow backend.\n"
     ]
    }
   ],
   "source": [
    "# Importando bibliotecas\n",
    "import pandas as pd\n",
    "import numpy as np\n",
    "from keras.layers import Dense, Conv2D, Dropout, BatchNormalization, Activation, MaxPooling2D, Flatten\n",
    "from keras.metrics import categorical_accuracy\n",
    "from keras.models import Sequential\n",
    "from keras.preprocessing import image\n",
    "from keras.preprocessing.image import ImageDataGenerator\n",
    "from keras import backend as K\n",
    "from keras import utils\n",
    "from sklearn.model_selection import train_test_split\n",
    "from sklearn.preprocessing import LabelBinarizer\n",
    "from sklearn.metrics import classification_report\n",
    "from keras import backend as K\n",
    "from imutils import paths\n",
    "import cv2\n",
    "import random\n",
    "import os\n"
   ]
  },
  {
   "cell_type": "markdown",
   "metadata": {},
   "source": [
    "### Gerador de imagens"
   ]
  },
  {
   "cell_type": "code",
   "execution_count": 2,
   "metadata": {},
   "outputs": [],
   "source": [
    "aug = ImageDataGenerator(rescale=1./255,\n",
    "                         rotation_range=7,\n",
    "                         horizontal_flip=True,\n",
    "                         shear_range=0.2,\n",
    "                         height_shift_range=0.2,\n",
    "                         zoom_range=0.2)\n",
    "\n",
    "aug_test = ImageDataGenerator(rescale=1./255)"
   ]
  },
  {
   "cell_type": "code",
   "execution_count": 3,
   "metadata": {},
   "outputs": [
    {
     "name": "stdout",
     "output_type": "stream",
     "text": [
      "Found 196 images belonging to 2 classes.\n",
      "Found 73 images belonging to 2 classes.\n"
     ]
    }
   ],
   "source": [
    "data_train = aug.flow_from_directory('/home/matheusjerico/Documentos/DSA/05. MachineLearning/Cap-12-IntroduçãoDeepLearning/dataset_udemy/dataset_personagens/training_set',\n",
    "                                     target_size=(128,128),\n",
    "                                     batch_size=32,\n",
    "                                     class_mode= 'binary')\n",
    "data_test = aug_test.flow_from_directory('/home/matheusjerico/Documentos/DSA/05. MachineLearning/Cap-12-IntroduçãoDeepLearning/dataset_udemy/dataset_personagens/test_set',\n",
    "                                         target_size = (128,128),\n",
    "                                         batch_size=32,\n",
    "                                         class_mode='binary')"
   ]
  },
  {
   "cell_type": "markdown",
   "metadata": {},
   "source": [
    "### Criando o modelo"
   ]
  },
  {
   "cell_type": "code",
   "execution_count": 4,
   "metadata": {},
   "outputs": [
    {
     "name": "stdout",
     "output_type": "stream",
     "text": [
      "WARNING:tensorflow:From /home/matheusjerico/anaconda3/lib/python3.6/site-packages/tensorflow/python/framework/op_def_library.py:263: colocate_with (from tensorflow.python.framework.ops) is deprecated and will be removed in a future version.\n",
      "Instructions for updating:\n",
      "Colocations handled automatically by placer.\n",
      "WARNING:tensorflow:From /home/matheusjerico/anaconda3/lib/python3.6/site-packages/keras/backend/tensorflow_backend.py:3445: calling dropout (from tensorflow.python.ops.nn_ops) with keep_prob is deprecated and will be removed in a future version.\n",
      "Instructions for updating:\n",
      "Please use `rate` instead of `keep_prob`. Rate should be set to `rate = 1 - keep_prob`.\n"
     ]
    }
   ],
   "source": [
    "input_Shape = (128, 128, 3)\n",
    "chanDim = -1\n",
    "\n",
    "if K.image_data_format == 'channels_first':\n",
    "    input_Shape = (3, 128, 128)\n",
    "    chanDim = 1\n",
    "    \n",
    "model = Sequential()\n",
    "\n",
    "model.add(Conv2D(32, (3,3), input_shape = input_Shape, padding = 'same', activation = 'relu'))\n",
    "model.add(MaxPooling2D(pool_size=(2,2)))\n",
    "model.add(Dropout(0.25))\n",
    "          \n",
    "model.add(Conv2D(64, (3,3), padding = 'same', activation = 'relu'))\n",
    "model.add(MaxPooling2D(pool_size=(2,2)))\n",
    "model.add(Dropout(0.25))\n",
    "\n",
    "model.add(Conv2D(128, (3,3), padding = 'same', activation = 'relu'))\n",
    "model.add(MaxPooling2D(pool_size=(2,2)))\n",
    "model.add(Dropout(0.25))\n",
    "          \n",
    "model.add(Flatten())\n",
    "    \n",
    "model.add(Dense(128))\n",
    "model.add(Activation('relu'))\n",
    "model.add(Dropout(0.25))\n",
    "\n",
    "model.add(Dense(12))\n",
    "model.add(Activation('relu'))\n",
    "model.add(Dropout(0.25))\n",
    "\n",
    "model.add(Dense(1, activation = 'sigmoid'))"
   ]
  },
  {
   "cell_type": "markdown",
   "metadata": {},
   "source": [
    "### Compilando e Fit no modelo"
   ]
  },
  {
   "cell_type": "code",
   "execution_count": 8,
   "metadata": {},
   "outputs": [
    {
     "name": "stdout",
     "output_type": "stream",
     "text": [
      "Epoch 1/20\n",
      "196/196 [==============================] - 251s 1s/step - loss: 0.6775 - acc: 0.5917 - val_loss: 0.6806 - val_acc: 0.5789\n",
      "Epoch 2/20\n",
      "196/196 [==============================] - 250s 1s/step - loss: 0.6718 - acc: 0.6019 - val_loss: 0.6760 - val_acc: 0.5817\n",
      "Epoch 3/20\n",
      "196/196 [==============================] - 254s 1s/step - loss: 0.6396 - acc: 0.6184 - val_loss: 0.6538 - val_acc: 0.6972\n",
      "Epoch 4/20\n",
      "196/196 [==============================] - 256s 1s/step - loss: 0.5865 - acc: 0.6905 - val_loss: 0.5619 - val_acc: 0.8114\n",
      "Epoch 5/20\n",
      "196/196 [==============================] - 244s 1s/step - loss: 0.5586 - acc: 0.7270 - val_loss: 0.5725 - val_acc: 0.7092\n",
      "Epoch 6/20\n",
      "196/196 [==============================] - 242s 1s/step - loss: 0.5391 - acc: 0.7466 - val_loss: 0.5301 - val_acc: 0.7769\n",
      "Epoch 7/20\n",
      "196/196 [==============================] - 7912s 40s/step - loss: 0.5282 - acc: 0.7523 - val_loss: 0.5189 - val_acc: 0.7807\n",
      "Epoch 8/20\n",
      "196/196 [==============================] - 260s 1s/step - loss: 0.5070 - acc: 0.7611 - val_loss: 0.4902 - val_acc: 0.8486\n",
      "Epoch 9/20\n",
      "196/196 [==============================] - 254s 1s/step - loss: 0.4811 - acc: 0.7750 - val_loss: 0.4789 - val_acc: 0.8327\n",
      "Epoch 10/20\n",
      "196/196 [==============================] - 243s 1s/step - loss: 0.4600 - acc: 0.7843 - val_loss: 0.4216 - val_acc: 0.8289\n",
      "Epoch 11/20\n",
      "196/196 [==============================] - 249s 1s/step - loss: 0.4077 - acc: 0.8171 - val_loss: 0.4154 - val_acc: 0.8167\n",
      "Epoch 12/20\n",
      "196/196 [==============================] - 244s 1s/step - loss: 0.3692 - acc: 0.8407 - val_loss: 0.3134 - val_acc: 0.8606\n",
      "Epoch 13/20\n",
      "196/196 [==============================] - 261s 1s/step - loss: 0.3312 - acc: 0.8500 - val_loss: 0.3155 - val_acc: 0.8772\n",
      "Epoch 14/20\n",
      "196/196 [==============================] - 245s 1s/step - loss: 0.2926 - acc: 0.8723 - val_loss: 0.4871 - val_acc: 0.7968\n",
      "Epoch 15/20\n",
      "196/196 [==============================] - 241s 1s/step - loss: 0.2604 - acc: 0.8909 - val_loss: 0.2723 - val_acc: 0.8805\n",
      "Epoch 16/20\n",
      "196/196 [==============================] - 241s 1s/step - loss: 0.2153 - acc: 0.9131 - val_loss: 0.3345 - val_acc: 0.8596\n",
      "Epoch 17/20\n",
      "196/196 [==============================] - 241s 1s/step - loss: 0.2153 - acc: 0.9129 - val_loss: 0.2939 - val_acc: 0.8845\n",
      "Epoch 18/20\n",
      "196/196 [==============================] - 254s 1s/step - loss: 0.2099 - acc: 0.9125 - val_loss: 0.8016 - val_acc: 0.7570\n",
      "Epoch 19/20\n",
      "196/196 [==============================] - 257s 1s/step - loss: 0.1883 - acc: 0.9216 - val_loss: 0.2732 - val_acc: 0.8904\n",
      "Epoch 20/20\n",
      "196/196 [==============================] - 273s 1s/step - loss: 0.2014 - acc: 0.9256 - val_loss: 0.2472 - val_acc: 0.8486\n"
     ]
    }
   ],
   "source": [
    "model.compile(loss='binary_crossentropy', optimizer='sgd', metrics=['accuracy'])\n",
    "\n",
    "H = model.fit_generator(data_train,\n",
    "                    steps_per_epoch=196,\n",
    "                    epochs=20,\n",
    "                    validation_data=data_test,\n",
    "                    validation_steps=10)"
   ]
  },
  {
   "cell_type": "markdown",
   "metadata": {},
   "source": [
    "### Prevendo e Avaliando o modelo"
   ]
  },
  {
   "cell_type": "code",
   "execution_count": 9,
   "metadata": {},
   "outputs": [
    {
     "name": "stdout",
     "output_type": "stream",
     "text": [
      "Test loss: 0.2443325163072964\n",
      "Test accuracy: 0.8492766151132709\n"
     ]
    }
   ],
   "source": [
    "scores = model.evaluate_generator(data_test, workers=10, steps= 190)\n",
    "print('Test loss:', scores[0])\n",
    "print('Test accuracy:', scores[1])"
   ]
  },
  {
   "cell_type": "code",
   "execution_count": 11,
   "metadata": {},
   "outputs": [
    {
     "data": {
      "image/png": "[encoded data removed]",
      "text/plain": [
       "<Figure size 432x288 with 1 Axes>"
      ]
     },
     "metadata": {},
     "output_type": "display_data"
    }
   ],
   "source": [
    "import matplotlib.pyplot as plt\n",
    "%matplotlib inline\n",
    "\n",
    "# Plocando acc e loss em relação aos epochs\n",
    "plt.style.use(\"ggplot\")\n",
    "plt.figure()\n",
    "plt.plot(H.history['loss'], label='train_loss')\n",
    "plt.plot(H.history['val_loss'], label='val_loss')\n",
    "plt.plot(H.history['acc'], label='acc')\n",
    "plt.plot(H.history['val_acc'], label='val_acc')\n",
    "plt.title(\"Training Loss and Accuracy (CNN)\")\n",
    "plt.xlabel(\"Epoch #\")\n",
    "plt.ylabel(\"Loss/Accuracy\")\n",
    "plt.legend()\n",
    "plt.show()"
   ]
  },
  {
   "cell_type": "code",
   "execution_count": 24,
   "metadata": {},
   "outputs": [],
   "source": [
    "predIdxs = model.predict_generator(data_test,steps=120)\n"
   ]
  },
  {
   "cell_type": "code",
   "execution_count": 26,
   "metadata": {},
   "outputs": [
    {
     "data": {
      "text/plain": [
       "array([[0.],\n",
       "       [1.],\n",
       "       [1.],\n",
       "       ...,\n",
       "       [0.],\n",
       "       [1.],\n",
       "       [1.]], dtype=float32)"
      ]
     },
     "execution_count": 26,
     "metadata": {},
     "output_type": "execute_result"
    }
   ],
   "source": [
    "np.around(predIdxs)"
   ]
  }
 ],
 "metadata": {
  "kernelspec": {
   "display_name": "Python 3",
   "language": "python",
   "name": "python3"
  },
  "language_info": {
   "codemirror_mode": {
    "name": "ipython",
    "version": 3
   },
   "file_extension": ".py",
   "mimetype": "text/x-python",
   "name": "python",
   "nbconvert_exporter": "python",
   "pygments_lexer": "ipython3",
   "version": "3.6.7"
  }
 },
 "nbformat": 4,
 "nbformat_minor": 2
}
