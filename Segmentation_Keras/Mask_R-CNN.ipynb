{
 "cells": [
  {
   "cell_type": "markdown",
   "metadata": {},
   "source": [
    "# Keras Mask R-CNN"
   ]
  },
  {
   "cell_type": "code",
   "execution_count": 1,
   "metadata": {},
   "outputs": [],
   "source": [
    "import numpy as np\n",
    "import random\n",
    "import os\n",
    "import cv2\n",
    "import time"
   ]
  },
  {
   "cell_type": "markdown",
   "metadata": {},
   "source": [
    "## Carregando as labels e cores"
   ]
  },
  {
   "cell_type": "markdown",
   "metadata": {},
   "source": [
    "#### Carregando labels"
   ]
  },
  {
   "cell_type": "code",
   "execution_count": 2,
   "metadata": {},
   "outputs": [
    {
     "name": "stdout",
     "output_type": "stream",
     "text": [
      "/home/matheusjerico/Documentos/DSA/05. MachineLearning/Cap-12-IntroduçãoDeepLearning/maskRCNN/mask-rcnn-coco/object_detection_classes_coco.txt\n",
      "['person', 'bicycle', 'car', 'motorcycle', 'airplane']\n"
     ]
    }
   ],
   "source": [
    "# Diretorio base\n",
    "dir_mask_rcnn = \"/home/matheusjerico/Documentos/DSA/05. MachineLearning/Cap-12-IntroduçãoDeepLearning/maskRCNN/mask-rcnn-coco\"\n",
    "\n",
    "# Junta o 'dir_mask_rcnn' com o nome do arquivo que tem as labels\n",
    "labelsPath = os.path.sep.join([dir_mask_rcnn, 'object_detection_classes_coco.txt'])\n",
    "print(labelsPath)\n",
    "\n",
    "# Le o arquivo 'labelsPath' e gera as labels\n",
    "LABELS = open(labelsPath).read().strip().split('\\n')\n",
    "print(LABELS[:5])"
   ]
  },
  {
   "cell_type": "markdown",
   "metadata": {},
   "source": [
    "#### Carregando cores"
   ]
  },
  {
   "cell_type": "code",
   "execution_count": 3,
   "metadata": {},
   "outputs": [
    {
     "name": "stdout",
     "output_type": "stream",
     "text": [
      "/home/matheusjerico/Documentos/DSA/05. MachineLearning/Cap-12-IntroduçãoDeepLearning/maskRCNN/mask-rcnn-coco/colors.txt\n",
      "[[  0 255   0]\n",
      " [  0   0 255]\n",
      " [255   0   0]\n",
      " [  0 255 255]\n",
      " [255 255   0]\n",
      " [255   0 255]]\n"
     ]
    }
   ],
   "source": [
    "# Carrega as cores do COCO clas\n",
    "colorsPath = os.path.sep.join([dir_mask_rcnn, 'colors.txt'])\n",
    "print(colorsPath)\n",
    "\n",
    "# Le o arquivo 'colorsPath' e gera as cores\n",
    "COLORS = open(colorsPath).read().strip().split(\"\\n\")\n",
    "COLORS = [np.array(c.split(\",\")).astype(\"int\") for c in COLORS]\n",
    "COLORS = np.array(COLORS, dtype='uint8')\n",
    "print(COLORS)"
   ]
  },
  {
   "cell_type": "markdown",
   "metadata": {},
   "source": [
    "## Carregando o modelo"
   ]
  },
  {
   "cell_type": "markdown",
   "metadata": {},
   "source": [
    "#### Carregando pesos e configurações do modelo"
   ]
  },
  {
   "cell_type": "code",
   "execution_count": 4,
   "metadata": {},
   "outputs": [
    {
     "name": "stdout",
     "output_type": "stream",
     "text": [
      "/home/matheusjerico/Documentos/DSA/05. MachineLearning/Cap-12-IntroduçãoDeepLearning/maskRCNN/mask-rcnn-coco/frozen_inference_graph.pb\n",
      "/home/matheusjerico/Documentos/DSA/05. MachineLearning/Cap-12-IntroduçãoDeepLearning/maskRCNN/mask-rcnn-coco/mask_rcnn_inception_v2_coco_2018_01_28.pbtxt\n"
     ]
    }
   ],
   "source": [
    "# Carregando os pesos e configurações\n",
    "weigthsPath = os.path.sep.join([dir_mask_rcnn,'frozen_inference_graph.pb'])\n",
    "print(weigthsPath)\n",
    "configPath = os.path.sep.join([dir_mask_rcnn, 'mask_rcnn_inception_v2_coco_2018_01_28.pbtxt'])\n",
    "print(configPath)"
   ]
  },
  {
   "cell_type": "markdown",
   "metadata": {},
   "source": [
    "#### Carregando MASK R-CNN treinada com o dataset COCO dataset (90 classes)"
   ]
  },
  {
   "cell_type": "code",
   "execution_count": 5,
   "metadata": {},
   "outputs": [],
   "source": [
    "# Carregando \n",
    "net = cv2.dnn.readNetFromTensorflow(weigthsPath, configPath)"
   ]
  },
  {
   "cell_type": "markdown",
   "metadata": {},
   "source": [
    "## Carregando Imagem"
   ]
  },
  {
   "cell_type": "code",
   "execution_count": 7,
   "metadata": {},
   "outputs": [
    {
     "name": "stdout",
     "output_type": "stream",
     "text": [
      "(600, 800, 3)\n",
      "(600, 800)\n"
     ]
    }
   ],
   "source": [
    "# Criando link para carregar imagem\n",
    "dir_image = '/home/matheusjerico/Documentos/DSA/05. MachineLearning/Cap-12-IntroduçãoDeepLearning/maskRCNN/images'\n",
    "imagePath = os.path.sep.join([dir_image, 'example_01.jpg'])\n",
    "\n",
    "# Carregando imagem\n",
    "image = cv2.imread(imagePath)\n",
    "print(image.shape)\n",
    "print(image.shape[:2])\n",
    "(H, W) = image.shape[:2]"
   ]
  },
  {
   "cell_type": "code",
   "execution_count": 10,
   "metadata": {},
   "outputs": [
    {
     "name": "stdout",
     "output_type": "stream",
     "text": [
      "[INFO] Mask R-CNN took 6.522977 seconds\n",
      "[INFO] boxes shape: (1, 1, 3, 7)\n",
      "[INFO] masks shape: (100, 90, 15, 15)\n"
     ]
    }
   ],
   "source": [
    "# Criando o blob da imagem\n",
    "# Caixa delimitadora e segmentação da imagem\n",
    "blob = cv2.dnn.blobFromImage(image, swapRB = True, crop = False)\n",
    "net.setInput(blob)\n",
    "start=time.time()\n",
    "(boxes, masks) = net.forward(['detection_out_final','detection_masks'])\n",
    "end = time.time()\n",
    "\n",
    "# Mostrando informações\n",
    "print(\"[INFO] Mask R-CNN took {:.6f} seconds\".format(end - start))\n",
    "print(\"[INFO] boxes shape: {}\".format(boxes.shape))\n",
    "print(\"[INFO] masks shape: {}\".format(masks.shape))"
   ]
  },
  {
   "cell_type": "markdown",
   "metadata": {},
   "source": [
    "## Filtro e visualização"
   ]
  },
  {
   "cell_type": "code",
   "execution_count": 23,
   "metadata": {},
   "outputs": [],
   "source": [
    "# Loop no número de objetos detectados\n",
    "for i in range(0, boxes.shape[2]):\n",
    "    # Extrair a classeID referente a detecção e sua respectiva probabilidade \n",
    "    classID = boxes[0, 0, i, 1]\n",
    "    confidence = boxes[0, 0, i, 2]\n",
    "    \n",
    "    # verifica se a probabilidade é maior que 50%\n",
    "    if confidence > 0.5:\n",
    "        # faz a cópia da imagem\n",
    "        clone = image.copy()\n",
    "        \n",
    "        # dimensionamos a caixa delimitadora do objeto e calculamos as dimensões da caixa\n",
    "        box = boxes[0, 0, 1, 3:7] * np.array([W, H, W, H])\n",
    "        (startX, startY, endX, endY) = box.astype('int')\n",
    "        boxW = endX - startX\n",
    "        boxH = endY - startY\n",
    "        \n",
    "        # extrai a segmentação em pixels para o objeto, \n",
    "        # redimensione a máscara de forma que ela tenha as mesmas \n",
    "        # dimensões da caixa delimitadora e, finalmente, limite para criar uma máscara * binária *\n",
    "        mask = masks[int(i), int(classID)]\n",
    "        mask = cv2.resize(mask, (boxW, boxH),\n",
    "                         interpolation = cv2.INTER_NEAREST)\n",
    "        mask = (mask > 0.3)\n",
    "        \n",
    "        # Extrai região de interesse da imagem\n",
    "        roi = clone[startY:endY, startX:endX]\n",
    "        \n",
    "        # converter a máscara de um booleano para uma máscara inteira\n",
    "        # para valores: 0 ou 255, depois aplique a máscara\n",
    "        visMask = (mask * 255).astype(\"uint8\")\n",
    "        instance = cv2.bitwise_and(roi, roi, mask=visMask)\n",
    "        \n",
    "        # show the extracted ROI, the mask, along with the\n",
    "        # segmented instance\n",
    "        cv2.imshow(\"ROI\", roi)\n",
    "        cv2.imshow(\"Mask\", visMask)\n",
    "        cv2.imshow(\"Segmented\", instance)\n",
    "        "
   ]
  }
 ],
 "metadata": {
  "kernelspec": {
   "display_name": "Python 3",
   "language": "python",
   "name": "python3"
  },
  "language_info": {
   "codemirror_mode": {
    "name": "ipython",
    "version": 3
   },
   "file_extension": ".py",
   "mimetype": "text/x-python",
   "name": "python",
   "nbconvert_exporter": "python",
   "pygments_lexer": "ipython3",
   "version": "3.6.7"
  }
 },
 "nbformat": 4,
 "nbformat_minor": 2
}
